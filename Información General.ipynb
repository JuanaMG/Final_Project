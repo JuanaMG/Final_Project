{
 "cells": [
  {
   "cell_type": "markdown",
   "id": "3358c765",
   "metadata": {},
   "source": [
    "## DATOS\n",
    "\n",
    "FRONTUR\n",
    "- Número turistas y su origen (isla)\n",
    "- Tipo de Alojamiento (isla)\n",
    "- Organización del viaje (paquete o no paquete // isla)\n",
    "\n",
    "EGATUR\n",
    "- Gasto turistas por isla\n",
    "- Gasto turistas por país de residencia (Total)\n",
    "- Partida de gasto (isla)\n",
    "- Gasto por organización (paquete o no paquete // isla)\n",
    "- Estancia media (españoles y extranjeros // isla)\n",
    "- Pernoctaciones totales ( españoles y extranjeros // isla)\n",
    "\n",
    "INE \n",
    "- Viajeros, pernoctaciones por tipo de alojamiento por comunidades y ciudades autónomas (https://www.ine.es/jaxiT3/Datos.htm?t=2941)\n",
    "\n",
    " "
   ]
  },
  {
   "cell_type": "markdown",
   "id": "35ed4b7d",
   "metadata": {},
   "source": [
    "FRONTUR y EGATUR (Turistas internacionales llegados a España)\n",
    "\n",
    "###  FRONTUR\n",
    "(Colaboración con INE) - medir el **número de  visitantes no residentes** en las Illes Balears\n",
    "    * Miden características como: la isla de  destino principal, el país de  residencia, el  tipo de  visitante (turista o excursionista), el tipo de alojamiento y el motivo principal del viaje.\n",
    "    *\n",
    "\n",
    "### EGATUR \n",
    "La Encuesta de gasto turístico tiene como objetivo principal conocer el **gasto turístico de los visitantes extranjeros** a su salida de España"
   ]
  },
  {
   "cell_type": "markdown",
   "id": "56669549",
   "metadata": {},
   "source": [
    "------------------------------------------------------------------------"
   ]
  },
  {
   "cell_type": "markdown",
   "id": "da61bcba",
   "metadata": {},
   "source": [
    "### **RevPAR**\n",
    "Es el revenue per available room. En español: los ingresos por habitación disponible. Es decir, el beneficio económico obtenido por habitación del alojamiento a nivel general y en un periodo determinado. Independientemente de si una habitación concreta ha sido ocupada o no.\n",
    "\n",
    "En el sector hotelero, el RevPAR es considerado el KPI más importante ya que no sólo te permite comprobar si tu alojamiento es rentable o no; sino también actuar en consecuencia y comprobar la efectividad del revenue management de forma sencilla y fiable.\n",
    "\n",
    "¿Cómo se obtiene?\n",
    "Calcular el RevPAR es muy sencillo. Puedes hacerlo de dos formas:\n",
    "\n",
    "Dividiendo los ingresos -resultado de multiplicar el precio medio por el número de habitaciones vendidas durante un periodo determinado- entre las habitaciones disponibles (número de días analizados por habitaciones del establecimiento).\n",
    "Multiplicando la ocupación hotelera por la tarifa media diaria. Puedes obtener la cifra de ocupación hotelera multiplicando el porcentaje de ocupación sobre las habitaciones disponibles durante un periodo determinado"
   ]
  },
  {
   "cell_type": "markdown",
   "id": "6ddb962c",
   "metadata": {},
   "source": [
    "----------------------------------------------------------------------------------------"
   ]
  },
  {
   "cell_type": "markdown",
   "id": "8d1d1d70",
   "metadata": {},
   "source": [
    "##### Definiciones básicas\n",
    "\n",
    "− Viajero: persona que realiza una o más pernoctaciones seguidas en el mismo alojamiento\n",
    "− Plazas hoteleras: se definen como el número de camas fijas. Las camas de matrimonio dan lugar a dos plazas y no se incluyen las supletorias. \n",
    "− Pernoctación: ocupación por una persona de una plaza o de una cama supletoria dentro de una jornada hotelera y en un mismo establecimiento.\n",
    "- Visitante: Toda persona que viaja a un lugar distinto a su entorno habitual durante menos de 12 meses y cuya finalidad principal del viaje no sea el ejercicio de una actividad remunerada en el lugar visitado.\n",
    "    * Visitante:\n",
    "        - Turista (pernocta)\n",
    "        - Excursionista (no pernocta)\n",
    "        \n",
    "- Paquete turístico. Producto que se ocmercializa de forma única y que contiene dos o más servicios de carácter turístico (alojamiento y transporte), por el que se paga un precio, dentro del cual el consumidor no es capaz de establecer un precio individual para cada servicio que se le da."
   ]
  },
  {
   "cell_type": "code",
   "execution_count": null,
   "id": "3025a2e1",
   "metadata": {},
   "outputs": [],
   "source": []
  }
 ],
 "metadata": {
  "kernelspec": {
   "display_name": "ironhack",
   "language": "python",
   "name": "ironhack"
  },
  "language_info": {
   "codemirror_mode": {
    "name": "ipython",
    "version": 3
   },
   "file_extension": ".py",
   "mimetype": "text/x-python",
   "name": "python",
   "nbconvert_exporter": "python",
   "pygments_lexer": "ipython3",
   "version": "3.8.2"
  }
 },
 "nbformat": 4,
 "nbformat_minor": 5
}
