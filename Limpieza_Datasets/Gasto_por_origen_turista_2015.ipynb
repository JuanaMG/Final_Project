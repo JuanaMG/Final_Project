{
 "cells": [
  {
   "cell_type": "code",
   "execution_count": 1,
   "id": "625091ff",
   "metadata": {},
   "outputs": [],
   "source": [
    "import pandas as pd"
   ]
  },
  {
   "cell_type": "code",
   "execution_count": 2,
   "id": "11deca18",
   "metadata": {},
   "outputs": [],
   "source": [
    "gasto_origen_turista_2015 = pd.read_csv('../Final_Project/data/Gasto_pais_residencia_2015_new.csv', sep = ';')"
   ]
  },
  {
   "cell_type": "code",
   "execution_count": 3,
   "id": "2a56a999",
   "metadata": {},
   "outputs": [
    {
     "data": {
      "text/html": [
       "<div>\n",
       "<style scoped>\n",
       "    .dataframe tbody tr th:only-of-type {\n",
       "        vertical-align: middle;\n",
       "    }\n",
       "\n",
       "    .dataframe tbody tr th {\n",
       "        vertical-align: top;\n",
       "    }\n",
       "\n",
       "    .dataframe thead th {\n",
       "        text-align: right;\n",
       "    }\n",
       "</style>\n",
       "<table border=\"1\" class=\"dataframe\">\n",
       "  <thead>\n",
       "    <tr style=\"text-align: right;\">\n",
       "      <th></th>\n",
       "      <th>Unnamed: 0</th>\n",
       "      <th>Gasto total</th>\n",
       "      <th>Gasto medio diario</th>\n",
       "      <th>Gasto medio por persona</th>\n",
       "    </tr>\n",
       "  </thead>\n",
       "  <tbody>\n",
       "    <tr>\n",
       "      <th>0</th>\n",
       "      <td>2015M09</td>\n",
       "      <td>NaN</td>\n",
       "      <td>NaN</td>\n",
       "      <td>NaN</td>\n",
       "    </tr>\n",
       "    <tr>\n",
       "      <th>1</th>\n",
       "      <td>1. ESPAÑA</td>\n",
       "      <td>191.802</td>\n",
       "      <td>91,25</td>\n",
       "      <td>751,01</td>\n",
       "    </tr>\n",
       "    <tr>\n",
       "      <th>2</th>\n",
       "      <td>2. EXTRANJERO</td>\n",
       "      <td>1.611.520</td>\n",
       "      <td>116,56</td>\n",
       "      <td>952,54</td>\n",
       "    </tr>\n",
       "    <tr>\n",
       "      <th>3</th>\n",
       "      <td>(110) Francia</td>\n",
       "      <td>50.522</td>\n",
       "      <td>90,01</td>\n",
       "      <td>825,99</td>\n",
       "    </tr>\n",
       "    <tr>\n",
       "      <th>4</th>\n",
       "      <td>(115) Italia</td>\n",
       "      <td>93.182</td>\n",
       "      <td>135,44</td>\n",
       "      <td>1.084,72</td>\n",
       "    </tr>\n",
       "  </tbody>\n",
       "</table>\n",
       "</div>"
      ],
      "text/plain": [
       "         Unnamed: 0 Gasto total Gasto medio diario Gasto medio por persona\n",
       "0           2015M09         NaN                NaN                     NaN\n",
       "1         1. ESPAÑA     191.802              91,25                  751,01\n",
       "2     2. EXTRANJERO   1.611.520             116,56                  952,54\n",
       "3     (110) Francia      50.522              90,01                  825,99\n",
       "4      (115) Italia      93.182             135,44                1.084,72"
      ]
     },
     "execution_count": 3,
     "metadata": {},
     "output_type": "execute_result"
    }
   ],
   "source": [
    "gasto_origen_turista_2015.head()"
   ]
  },
  {
   "cell_type": "code",
   "execution_count": 4,
   "id": "cdef03bb",
   "metadata": {},
   "outputs": [],
   "source": [
    "gasto_origen_turista_2015 = gasto_origen_turista_2015.rename(columns={'Unnamed: 0':'origen_turista'})"
   ]
  },
  {
   "cell_type": "code",
   "execution_count": 5,
   "id": "05a78161",
   "metadata": {},
   "outputs": [],
   "source": [
    "gasto_origen_turista_2015.origen_turista = gasto_origen_turista_2015.origen_turista.str.strip()"
   ]
  },
  {
   "cell_type": "code",
   "execution_count": 6,
   "id": "5c91602e",
   "metadata": {},
   "outputs": [],
   "source": [
    "def inicio(df):\n",
    "    df.insert(1, \"Mes/año\", \"\")"
   ]
  },
  {
   "cell_type": "code",
   "execution_count": 7,
   "id": "a231037a",
   "metadata": {},
   "outputs": [],
   "source": [
    "inicio(gasto_origen_turista_2015)"
   ]
  },
  {
   "cell_type": "code",
   "execution_count": 8,
   "id": "1fb9ff22",
   "metadata": {},
   "outputs": [],
   "source": [
    "def fecha(df):\n",
    "    count = 0\n",
    "    cambioiloc = 0\n",
    "    lista_general = []\n",
    "    for i,row in df.iterrows():\n",
    "        lista_general.append(df.iloc[cambioiloc][\"origen_turista\"])\n",
    "        count += 1    \n",
    "        if count == 12:\n",
    "            cambioiloc = (i+1)\n",
    "            count=0\n",
    "    df[\"Mes/año\"] = lista_general   \n",
    "\n",
    "    for i, row in df.iterrows():\n",
    "        if row['origen_turista'] in lista_general:\n",
    "            df.drop(i, inplace=True)"
   ]
  },
  {
   "cell_type": "code",
   "execution_count": 9,
   "id": "34bf66b6",
   "metadata": {},
   "outputs": [],
   "source": [
    "fecha(gasto_origen_turista_2015)"
   ]
  },
  {
   "cell_type": "code",
   "execution_count": 10,
   "id": "1192d051",
   "metadata": {},
   "outputs": [],
   "source": [
    "def month_year(df):\n",
    "    df['year'], df['month'] = df[\"Mes/año\"].str.split('M', 1).str\n",
    "    df.drop(['Mes/año'], axis = 1, inplace= True)"
   ]
  },
  {
   "cell_type": "code",
   "execution_count": 11,
   "id": "d24b49e9",
   "metadata": {
    "collapsed": true
   },
   "outputs": [
    {
     "name": "stderr",
     "output_type": "stream",
     "text": [
      "<ipython-input-10-4b29fdac01bc>:2: FutureWarning: Columnar iteration over characters will be deprecated in future releases.\n",
      "  df['year'], df['month'] = df[\"Mes/año\"].str.split('M', 1).str\n"
     ]
    }
   ],
   "source": [
    "month_year(gasto_origen_turista_2015)"
   ]
  },
  {
   "cell_type": "code",
   "execution_count": 12,
   "id": "287c21b4",
   "metadata": {
    "collapsed": true
   },
   "outputs": [
    {
     "name": "stderr",
     "output_type": "stream",
     "text": [
      "<ipython-input-12-2126a5e294d4>:1: FutureWarning: The default value of regex will change from True to False in a future version.\n",
      "  gasto_origen_turista_2015['origen_turista'] = gasto_origen_turista_2015['origen_turista'].str.replace(\"\\(\\d+\\)\", \"\").str.replace(\"\\d+\", \"\")\n"
     ]
    }
   ],
   "source": [
    "gasto_origen_turista_2015['origen_turista'] = gasto_origen_turista_2015['origen_turista'].str.replace(\"\\(\\d+\\)\", \"\").str.replace(\"\\d+\", \"\")"
   ]
  },
  {
   "cell_type": "code",
   "execution_count": 14,
   "id": "2f17dc3f",
   "metadata": {
    "scrolled": true
   },
   "outputs": [
    {
     "data": {
      "text/plain": [
       "['. ESPAÑA',\n",
       " '. EXTRANJERO',\n",
       " ' Francia',\n",
       " ' Italia',\n",
       " ' Reino Unido',\n",
       " ' Alemania',\n",
       " ' Suiza',\n",
       " 'Bélgica, Luxemburgo y Países Bajos',\n",
       " 'Países nórdicos',\n",
       " 'Resto de Europa',\n",
       " 'Resto del mundo']"
      ]
     },
     "execution_count": 14,
     "metadata": {},
     "output_type": "execute_result"
    }
   ],
   "source": [
    "gasto_origen_turista_2015.origen_turista.unique().tolist()"
   ]
  },
  {
   "cell_type": "code",
   "execution_count": null,
   "id": "e8481366",
   "metadata": {},
   "outputs": [],
   "source": []
  },
  {
   "cell_type": "code",
   "execution_count": null,
   "id": "555c4de3",
   "metadata": {},
   "outputs": [],
   "source": []
  },
  {
   "cell_type": "code",
   "execution_count": null,
   "id": "d12c4de3",
   "metadata": {},
   "outputs": [],
   "source": []
  }
 ],
 "metadata": {
  "kernelspec": {
   "display_name": "ironhack",
   "language": "python",
   "name": "ironhack"
  },
  "language_info": {
   "codemirror_mode": {
    "name": "ipython",
    "version": 3
   },
   "file_extension": ".py",
   "mimetype": "text/x-python",
   "name": "python",
   "nbconvert_exporter": "python",
   "pygments_lexer": "ipython3",
   "version": "3.8.2"
  }
 },
 "nbformat": 4,
 "nbformat_minor": 5
}
