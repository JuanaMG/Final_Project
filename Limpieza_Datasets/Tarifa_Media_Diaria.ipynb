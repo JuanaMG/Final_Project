{
 "cells": [
  {
   "cell_type": "code",
   "execution_count": 1,
   "id": "755d9491",
   "metadata": {},
   "outputs": [],
   "source": [
    "import pandas as pd"
   ]
  },
  {
   "cell_type": "code",
   "execution_count": 2,
   "id": "770b5c11",
   "metadata": {},
   "outputs": [],
   "source": [
    "tarifa_media = pd.read_csv('../Limpieza_Datasets/data/Tarifa_media_diaria_periodo,_isla_2008_2021.csv', sep = ';')"
   ]
  },
  {
   "cell_type": "code",
   "execution_count": 3,
   "id": "1c11cc36",
   "metadata": {},
   "outputs": [],
   "source": [
    "tarifa_media = tarifa_media.rename(columns={'Unnamed: 0':'periodo',\n",
    "                                           'Eivissa-Formentera':'Ibiza_Formentera'})"
   ]
  },
  {
   "cell_type": "code",
   "execution_count": 4,
   "id": "24980a94",
   "metadata": {},
   "outputs": [],
   "source": [
    "tarifa_media['periodo'] = tarifa_media.periodo.shift(1)"
   ]
  },
  {
   "cell_type": "code",
   "execution_count": 5,
   "id": "d4624fd1",
   "metadata": {},
   "outputs": [],
   "source": [
    "#tarifa_media = tarifa_media[~tarifa_media.periodo.str.contains('TOTAL')]"
   ]
  },
  {
   "cell_type": "code",
   "execution_count": 6,
   "id": "2a265809",
   "metadata": {},
   "outputs": [],
   "source": [
    "tarifa_media = tarifa_media.dropna()"
   ]
  },
  {
   "cell_type": "code",
   "execution_count": 7,
   "id": "31b06342",
   "metadata": {},
   "outputs": [
    {
     "name": "stderr",
     "output_type": "stream",
     "text": [
      "<ipython-input-7-34ed32996849>:1: FutureWarning: Columnar iteration over characters will be deprecated in future releases.\n",
      "  tarifa_media['year'], tarifa_media['month'] = tarifa_media[\"periodo\"].str.split('M', 1).str\n"
     ]
    },
    {
     "data": {
      "text/html": [
       "<div>\n",
       "<style scoped>\n",
       "    .dataframe tbody tr th:only-of-type {\n",
       "        vertical-align: middle;\n",
       "    }\n",
       "\n",
       "    .dataframe tbody tr th {\n",
       "        vertical-align: top;\n",
       "    }\n",
       "\n",
       "    .dataframe thead th {\n",
       "        text-align: right;\n",
       "    }\n",
       "</style>\n",
       "<table border=\"1\" class=\"dataframe\">\n",
       "  <thead>\n",
       "    <tr style=\"text-align: right;\">\n",
       "      <th></th>\n",
       "      <th>Mallorca</th>\n",
       "      <th>Menorca</th>\n",
       "      <th>Ibiza_Formentera</th>\n",
       "      <th>year</th>\n",
       "      <th>month</th>\n",
       "    </tr>\n",
       "  </thead>\n",
       "  <tbody>\n",
       "    <tr>\n",
       "      <th>1</th>\n",
       "      <td>106,2</td>\n",
       "      <td>64,4</td>\n",
       "      <td>86,9</td>\n",
       "      <td>2021</td>\n",
       "      <td>12</td>\n",
       "    </tr>\n",
       "    <tr>\n",
       "      <th>3</th>\n",
       "      <td>93,3</td>\n",
       "      <td>66</td>\n",
       "      <td>86,2</td>\n",
       "      <td>2021</td>\n",
       "      <td>11</td>\n",
       "    </tr>\n",
       "    <tr>\n",
       "      <th>5</th>\n",
       "      <td>95,1</td>\n",
       "      <td>77</td>\n",
       "      <td>98</td>\n",
       "      <td>2021</td>\n",
       "      <td>10</td>\n",
       "    </tr>\n",
       "    <tr>\n",
       "      <th>7</th>\n",
       "      <td>110,7</td>\n",
       "      <td>113,6</td>\n",
       "      <td>153,3</td>\n",
       "      <td>2021</td>\n",
       "      <td>09</td>\n",
       "    </tr>\n",
       "    <tr>\n",
       "      <th>9</th>\n",
       "      <td>130,8</td>\n",
       "      <td>178,7</td>\n",
       "      <td>209,9</td>\n",
       "      <td>2021</td>\n",
       "      <td>08</td>\n",
       "    </tr>\n",
       "  </tbody>\n",
       "</table>\n",
       "</div>"
      ],
      "text/plain": [
       "  Mallorca Menorca Ibiza_Formentera  year month\n",
       "1    106,2    64,4             86,9  2021    12\n",
       "3     93,3      66             86,2  2021    11\n",
       "5     95,1      77               98  2021    10\n",
       "7    110,7   113,6            153,3  2021    09\n",
       "9    130,8   178,7            209,9  2021    08"
      ]
     },
     "execution_count": 7,
     "metadata": {},
     "output_type": "execute_result"
    }
   ],
   "source": [
    "tarifa_media['year'], tarifa_media['month'] = tarifa_media[\"periodo\"].str.split('M', 1).str\n",
    "tarifa_media = tarifa_media.drop(['periodo'], axis = 1)\n",
    "tarifa_media.head()"
   ]
  },
  {
   "cell_type": "code",
   "execution_count": 8,
   "id": "f52eb07d",
   "metadata": {},
   "outputs": [],
   "source": [
    "tarifa_media_pmi = tarifa_media[['year', 'month', 'Mallorca']]\n",
    "tarifa_media_pmi.insert(0, \"Isla\", \"Mallorca\")\n",
    "tarifa_media_pmi = tarifa_media_pmi.rename(columns={'Mallorca':'Tarifa_media_diaria'})"
   ]
  },
  {
   "cell_type": "code",
   "execution_count": 9,
   "id": "c6fb2691",
   "metadata": {},
   "outputs": [],
   "source": [
    "tarifa_media_mah = tarifa_media[['year', 'month', 'Menorca']]\n",
    "tarifa_media_mah.insert(0, \"Isla\", \"Menorca\")\n",
    "tarifa_media_mah = tarifa_media_mah.rename(columns={'Menorca':'Tarifa_media_diaria'})"
   ]
  },
  {
   "cell_type": "code",
   "execution_count": 10,
   "id": "8700d667",
   "metadata": {},
   "outputs": [],
   "source": [
    "tarifa_media_ibz = tarifa_media[['year', 'month', 'Ibiza_Formentera']]\n",
    "tarifa_media_ibz.insert(0, \"Isla\", \"Ibiza_Formentera\")\n",
    "tarifa_media_ibz = tarifa_media_ibz.rename(columns={'Ibiza_Formentera':'Tarifa_media_diaria'})"
   ]
  },
  {
   "cell_type": "code",
   "execution_count": 11,
   "id": "84ab87d8",
   "metadata": {},
   "outputs": [],
   "source": [
    "tarifa_media_ok = pd.concat([tarifa_media_pmi, tarifa_media_mah, tarifa_media_ibz])"
   ]
  },
  {
   "cell_type": "code",
   "execution_count": 13,
   "id": "20a13db7",
   "metadata": {
    "scrolled": true
   },
   "outputs": [
    {
     "data": {
      "text/plain": [
       "Isla                   object\n",
       "year                   object\n",
       "month                  object\n",
       "Tarifa_media_diaria    object\n",
       "dtype: object"
      ]
     },
     "execution_count": 13,
     "metadata": {},
     "output_type": "execute_result"
    }
   ],
   "source": [
    "tarifa_media_ok.dtypes"
   ]
  },
  {
   "cell_type": "code",
   "execution_count": 19,
   "id": "458a6c93",
   "metadata": {},
   "outputs": [],
   "source": [
    "def cambiar (strnum):\n",
    "    strnum = strnum.replace(\".\",\"\")\n",
    "    return strnum.replace(\",\",\".\")"
   ]
  },
  {
   "cell_type": "code",
   "execution_count": 20,
   "id": "80334ef8",
   "metadata": {},
   "outputs": [],
   "source": [
    "tarifa_media_ok['Tarifa_media_diaria'] = tarifa_media_ok['Tarifa_media_diaria'].apply(cambiar)\n",
    "tarifa_media_ok['Tarifa_media_diaria'] = pd.to_numeric(tarifa_media_ok['Tarifa_media_diaria'], errors = 'coerce')"
   ]
  },
  {
   "cell_type": "code",
   "execution_count": 22,
   "id": "f64930e7",
   "metadata": {},
   "outputs": [],
   "source": [
    "tarifa_media_ok['year'] = tarifa_media_ok['year'].astype(str).astype(int)\n",
    "tarifa_media_ok['month'] = tarifa_media_ok['month'].astype(str).astype(int)"
   ]
  },
  {
   "cell_type": "code",
   "execution_count": 26,
   "id": "75389b50",
   "metadata": {},
   "outputs": [],
   "source": [
    "#tarifa_media_ok.to_csv(r'tarifa_media_diaria.csv', index = False, header=True)"
   ]
  },
  {
   "cell_type": "code",
   "execution_count": null,
   "id": "1ef77c15",
   "metadata": {},
   "outputs": [],
   "source": []
  }
 ],
 "metadata": {
  "kernelspec": {
   "display_name": "ironhack",
   "language": "python",
   "name": "ironhack"
  },
  "language_info": {
   "codemirror_mode": {
    "name": "ipython",
    "version": 3
   },
   "file_extension": ".py",
   "mimetype": "text/x-python",
   "name": "python",
   "nbconvert_exporter": "python",
   "pygments_lexer": "ipython3",
   "version": "3.8.2"
  }
 },
 "nbformat": 4,
 "nbformat_minor": 5
}
