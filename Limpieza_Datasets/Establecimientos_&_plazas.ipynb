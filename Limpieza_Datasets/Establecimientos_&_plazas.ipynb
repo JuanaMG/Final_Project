{
 "cells": [
  {
   "cell_type": "code",
   "execution_count": 1,
   "id": "4be0c33f",
   "metadata": {},
   "outputs": [],
   "source": [
    "import pandas as pd\n",
    "\n",
    "import warnings\n",
    "warnings.simplefilter('ignore')"
   ]
  },
  {
   "cell_type": "code",
   "execution_count": 2,
   "id": "33e5c924",
   "metadata": {},
   "outputs": [],
   "source": [
    "mallorca = pd.read_csv('../Limpieza_Datasets/data/Establecimientos_plazas_Mallorca.csv', sep =';')\n",
    "menorca = pd.read_csv('../Limpieza_Datasets/data/Establecimientos_plazas_Menorca.csv', sep =';')\n",
    "ibiza = pd.read_csv('../Limpieza_Datasets/data/Establecimientos_plazas_Ibiza.csv', sep =';')\n",
    "formentera = pd.read_csv('../Limpieza_Datasets/data/Establecimientos_plazas_Formentera.csv', sep =';')"
   ]
  },
  {
   "cell_type": "code",
   "execution_count": 3,
   "id": "f7cc1d2f",
   "metadata": {},
   "outputs": [
    {
     "data": {
      "text/html": [
       "<div>\n",
       "<style scoped>\n",
       "    .dataframe tbody tr th:only-of-type {\n",
       "        vertical-align: middle;\n",
       "    }\n",
       "\n",
       "    .dataframe tbody tr th {\n",
       "        vertical-align: top;\n",
       "    }\n",
       "\n",
       "    .dataframe thead th {\n",
       "        text-align: right;\n",
       "    }\n",
       "</style>\n",
       "<table border=\"1\" class=\"dataframe\">\n",
       "  <thead>\n",
       "    <tr style=\"text-align: right;\">\n",
       "      <th></th>\n",
       "      <th>Unnamed: 0</th>\n",
       "      <th>Número de establecimientos</th>\n",
       "      <th>Número de plazas</th>\n",
       "    </tr>\n",
       "  </thead>\n",
       "  <tbody>\n",
       "    <tr>\n",
       "      <th>0</th>\n",
       "      <td>2020</td>\n",
       "      <td>NaN</td>\n",
       "      <td>NaN</td>\n",
       "    </tr>\n",
       "    <tr>\n",
       "      <th>1</th>\n",
       "      <td>(AG) AGROTURISMO</td>\n",
       "      <td>286</td>\n",
       "      <td>5.590</td>\n",
       "    </tr>\n",
       "    <tr>\n",
       "      <th>2</th>\n",
       "      <td>(AP) APARTAMENTOS TURÍSTICOS</td>\n",
       "      <td>295</td>\n",
       "      <td>33.039</td>\n",
       "    </tr>\n",
       "    <tr>\n",
       "      <th>3</th>\n",
       "      <td>(CH) CASA DE HUÉSPEDES</td>\n",
       "      <td>15</td>\n",
       "      <td>479</td>\n",
       "    </tr>\n",
       "    <tr>\n",
       "      <th>4</th>\n",
       "      <td>(CT) CAMPING TURÍSTICO</td>\n",
       "      <td>1</td>\n",
       "      <td>500</td>\n",
       "    </tr>\n",
       "  </tbody>\n",
       "</table>\n",
       "</div>"
      ],
      "text/plain": [
       "                        Unnamed: 0 Número de establecimientos Número de plazas\n",
       "0                             2020                        NaN              NaN\n",
       "1                 (AG) AGROTURISMO                        286            5.590\n",
       "2     (AP) APARTAMENTOS TURÍSTICOS                        295           33.039\n",
       "3           (CH) CASA DE HUÉSPEDES                         15              479\n",
       "4           (CT) CAMPING TURÍSTICO                          1              500"
      ]
     },
     "execution_count": 3,
     "metadata": {},
     "output_type": "execute_result"
    }
   ],
   "source": [
    "mallorca.head(5)"
   ]
  },
  {
   "cell_type": "markdown",
   "id": "9175cfb0",
   "metadata": {},
   "source": [
    "Renombrar columnas y crear nueva columna 'year'"
   ]
  },
  {
   "cell_type": "code",
   "execution_count": 4,
   "id": "c74df9c6",
   "metadata": {},
   "outputs": [],
   "source": [
    "def renomcolumna(df):\n",
    "    df.rename(columns={'Unnamed: 0':'tipo_alojamiento',\n",
    "                      'Número de establecimientos': 'num_establecim',\n",
    "                      'Número de plazas':'num_plazas'},inplace=True)\n",
    "    df.insert(1, \"year\", \"\")"
   ]
  },
  {
   "cell_type": "code",
   "execution_count": 5,
   "id": "b91e1ff8",
   "metadata": {},
   "outputs": [],
   "source": [
    "renomcolumna(mallorca)\n",
    "renomcolumna(menorca)\n",
    "renomcolumna(ibiza)\n",
    "renomcolumna(formentera)"
   ]
  },
  {
   "cell_type": "code",
   "execution_count": 6,
   "id": "84e53fe5",
   "metadata": {},
   "outputs": [
    {
     "data": {
      "text/html": [
       "<div>\n",
       "<style scoped>\n",
       "    .dataframe tbody tr th:only-of-type {\n",
       "        vertical-align: middle;\n",
       "    }\n",
       "\n",
       "    .dataframe tbody tr th {\n",
       "        vertical-align: top;\n",
       "    }\n",
       "\n",
       "    .dataframe thead th {\n",
       "        text-align: right;\n",
       "    }\n",
       "</style>\n",
       "<table border=\"1\" class=\"dataframe\">\n",
       "  <thead>\n",
       "    <tr style=\"text-align: right;\">\n",
       "      <th></th>\n",
       "      <th>tipo_alojamiento</th>\n",
       "      <th>year</th>\n",
       "      <th>num_establecim</th>\n",
       "      <th>num_plazas</th>\n",
       "    </tr>\n",
       "  </thead>\n",
       "  <tbody>\n",
       "    <tr>\n",
       "      <th>0</th>\n",
       "      <td>2020</td>\n",
       "      <td></td>\n",
       "      <td>NaN</td>\n",
       "      <td>NaN</td>\n",
       "    </tr>\n",
       "    <tr>\n",
       "      <th>1</th>\n",
       "      <td>(AG) AGROTURISMO</td>\n",
       "      <td></td>\n",
       "      <td>286</td>\n",
       "      <td>5.590</td>\n",
       "    </tr>\n",
       "    <tr>\n",
       "      <th>2</th>\n",
       "      <td>(AP) APARTAMENTOS TURÍSTICOS</td>\n",
       "      <td></td>\n",
       "      <td>295</td>\n",
       "      <td>33.039</td>\n",
       "    </tr>\n",
       "    <tr>\n",
       "      <th>3</th>\n",
       "      <td>(CH) CASA DE HUÉSPEDES</td>\n",
       "      <td></td>\n",
       "      <td>15</td>\n",
       "      <td>479</td>\n",
       "    </tr>\n",
       "    <tr>\n",
       "      <th>4</th>\n",
       "      <td>(CT) CAMPING TURÍSTICO</td>\n",
       "      <td></td>\n",
       "      <td>1</td>\n",
       "      <td>500</td>\n",
       "    </tr>\n",
       "  </tbody>\n",
       "</table>\n",
       "</div>"
      ],
      "text/plain": [
       "                  tipo_alojamiento year num_establecim num_plazas\n",
       "0                             2020                 NaN        NaN\n",
       "1                 (AG) AGROTURISMO                 286      5.590\n",
       "2     (AP) APARTAMENTOS TURÍSTICOS                 295     33.039\n",
       "3           (CH) CASA DE HUÉSPEDES                  15        479\n",
       "4           (CT) CAMPING TURÍSTICO                   1        500"
      ]
     },
     "execution_count": 6,
     "metadata": {},
     "output_type": "execute_result"
    }
   ],
   "source": [
    "mallorca.head(5)"
   ]
  },
  {
   "cell_type": "code",
   "execution_count": 7,
   "id": "36ccbd43",
   "metadata": {},
   "outputs": [],
   "source": [
    "def fecha(df):\n",
    "    count = 0\n",
    "    cambioiloc = 0\n",
    "    lista_general = []\n",
    "    for i,row in df.iterrows():\n",
    "        lista_general.append(df.iloc[cambioiloc][\"tipo_alojamiento\"])\n",
    "        count += 1    \n",
    "        if count == 17:\n",
    "            cambioiloc = (i+1)\n",
    "            count=0\n",
    "    df[\"year\"] = lista_general   \n",
    "\n",
    "    for i, row in df.iterrows():\n",
    "        if row['tipo_alojamiento'] in lista_general:\n",
    "            df.drop(i, inplace=True)"
   ]
  },
  {
   "cell_type": "code",
   "execution_count": 8,
   "id": "e5fcb1bc",
   "metadata": {},
   "outputs": [],
   "source": [
    "fecha(mallorca)\n",
    "fecha(menorca)\n",
    "fecha(ibiza)\n",
    "fecha(formentera)"
   ]
  },
  {
   "cell_type": "code",
   "execution_count": 9,
   "id": "91914c6a",
   "metadata": {},
   "outputs": [
    {
     "data": {
      "text/html": [
       "<div>\n",
       "<style scoped>\n",
       "    .dataframe tbody tr th:only-of-type {\n",
       "        vertical-align: middle;\n",
       "    }\n",
       "\n",
       "    .dataframe tbody tr th {\n",
       "        vertical-align: top;\n",
       "    }\n",
       "\n",
       "    .dataframe thead th {\n",
       "        text-align: right;\n",
       "    }\n",
       "</style>\n",
       "<table border=\"1\" class=\"dataframe\">\n",
       "  <thead>\n",
       "    <tr style=\"text-align: right;\">\n",
       "      <th></th>\n",
       "      <th>tipo_alojamiento</th>\n",
       "      <th>year</th>\n",
       "      <th>num_establecim</th>\n",
       "      <th>num_plazas</th>\n",
       "    </tr>\n",
       "  </thead>\n",
       "  <tbody>\n",
       "    <tr>\n",
       "      <th>1</th>\n",
       "      <td>(AG) AGROTURISMO</td>\n",
       "      <td>2020</td>\n",
       "      <td>286</td>\n",
       "      <td>5.590</td>\n",
       "    </tr>\n",
       "    <tr>\n",
       "      <th>2</th>\n",
       "      <td>(AP) APARTAMENTOS TURÍSTICOS</td>\n",
       "      <td>2020</td>\n",
       "      <td>295</td>\n",
       "      <td>33.039</td>\n",
       "    </tr>\n",
       "    <tr>\n",
       "      <th>3</th>\n",
       "      <td>(CH) CASA DE HUÉSPEDES</td>\n",
       "      <td>2020</td>\n",
       "      <td>15</td>\n",
       "      <td>479</td>\n",
       "    </tr>\n",
       "    <tr>\n",
       "      <th>4</th>\n",
       "      <td>(CT) CAMPING TURÍSTICO</td>\n",
       "      <td>2020</td>\n",
       "      <td>1</td>\n",
       "      <td>500</td>\n",
       "    </tr>\n",
       "    <tr>\n",
       "      <th>5</th>\n",
       "      <td>(CV) CIUDAD DE VACACIONES</td>\n",
       "      <td>2020</td>\n",
       "      <td>0</td>\n",
       "      <td>0</td>\n",
       "    </tr>\n",
       "    <tr>\n",
       "      <th>...</th>\n",
       "      <td>...</td>\n",
       "      <td>...</td>\n",
       "      <td>...</td>\n",
       "      <td>...</td>\n",
       "    </tr>\n",
       "    <tr>\n",
       "      <th>216</th>\n",
       "      <td>(HS) HOSTAL</td>\n",
       "      <td>2008</td>\n",
       "      <td>94</td>\n",
       "      <td>5.417</td>\n",
       "    </tr>\n",
       "    <tr>\n",
       "      <th>217</th>\n",
       "      <td>(HSR) HOSTAL RESIDENCIA</td>\n",
       "      <td>2008</td>\n",
       "      <td>105</td>\n",
       "      <td>4.256</td>\n",
       "    </tr>\n",
       "    <tr>\n",
       "      <th>218</th>\n",
       "      <td>(PE) PENSIÓN</td>\n",
       "      <td>2008</td>\n",
       "      <td>1</td>\n",
       "      <td>23</td>\n",
       "    </tr>\n",
       "    <tr>\n",
       "      <th>219</th>\n",
       "      <td>(RA) RESIDENCIA APARTAMENTO</td>\n",
       "      <td>2008</td>\n",
       "      <td>0</td>\n",
       "      <td>0</td>\n",
       "    </tr>\n",
       "    <tr>\n",
       "      <th>220</th>\n",
       "      <td>(TI) TURISMO DE INTERIOR</td>\n",
       "      <td>2008</td>\n",
       "      <td>48</td>\n",
       "      <td>607</td>\n",
       "    </tr>\n",
       "  </tbody>\n",
       "</table>\n",
       "<p>208 rows × 4 columns</p>\n",
       "</div>"
      ],
      "text/plain": [
       "                    tipo_alojamiento  year num_establecim num_plazas\n",
       "1                   (AG) AGROTURISMO  2020            286      5.590\n",
       "2       (AP) APARTAMENTOS TURÍSTICOS  2020            295     33.039\n",
       "3             (CH) CASA DE HUÉSPEDES  2020             15        479\n",
       "4             (CT) CAMPING TURÍSTICO  2020              1        500\n",
       "5          (CV) CIUDAD DE VACACIONES  2020              0          0\n",
       "..                               ...   ...            ...        ...\n",
       "216                      (HS) HOSTAL  2008             94      5.417\n",
       "217          (HSR) HOSTAL RESIDENCIA  2008            105      4.256\n",
       "218                     (PE) PENSIÓN  2008              1         23\n",
       "219      (RA) RESIDENCIA APARTAMENTO  2008              0          0\n",
       "220         (TI) TURISMO DE INTERIOR  2008             48        607\n",
       "\n",
       "[208 rows x 4 columns]"
      ]
     },
     "execution_count": 9,
     "metadata": {},
     "output_type": "execute_result"
    }
   ],
   "source": [
    "mallorca"
   ]
  },
  {
   "cell_type": "code",
   "execution_count": 10,
   "id": "953978bc",
   "metadata": {},
   "outputs": [],
   "source": [
    "mallorca=mallorca.assign(Isla='Mallorca')\n",
    "menorca=menorca.assign(Isla='Menorca')\n",
    "ibiza=ibiza.assign(Isla='Ibiza')\n",
    "formentera=formentera.assign(Isla='Formentera')"
   ]
  },
  {
   "cell_type": "code",
   "execution_count": 11,
   "id": "e2e2f533",
   "metadata": {},
   "outputs": [],
   "source": [
    "total_establecim_plazas = pd.concat([mallorca, menorca, ibiza, formentera])"
   ]
  },
  {
   "cell_type": "code",
   "execution_count": 14,
   "id": "9401ea17",
   "metadata": {
    "scrolled": true
   },
   "outputs": [
    {
     "data": {
      "text/html": [
       "<div>\n",
       "<style scoped>\n",
       "    .dataframe tbody tr th:only-of-type {\n",
       "        vertical-align: middle;\n",
       "    }\n",
       "\n",
       "    .dataframe tbody tr th {\n",
       "        vertical-align: top;\n",
       "    }\n",
       "\n",
       "    .dataframe thead th {\n",
       "        text-align: right;\n",
       "    }\n",
       "</style>\n",
       "<table border=\"1\" class=\"dataframe\">\n",
       "  <thead>\n",
       "    <tr style=\"text-align: right;\">\n",
       "      <th></th>\n",
       "      <th>tipo_alojamiento</th>\n",
       "      <th>year</th>\n",
       "      <th>num_establecim</th>\n",
       "      <th>num_plazas</th>\n",
       "      <th>Isla</th>\n",
       "    </tr>\n",
       "  </thead>\n",
       "  <tbody>\n",
       "    <tr>\n",
       "      <th>1</th>\n",
       "      <td>AGROTURISMO</td>\n",
       "      <td>2020</td>\n",
       "      <td>286</td>\n",
       "      <td>5.590</td>\n",
       "      <td>Mallorca</td>\n",
       "    </tr>\n",
       "    <tr>\n",
       "      <th>2</th>\n",
       "      <td>APARTAMENTOS TURÍSTICOS</td>\n",
       "      <td>2020</td>\n",
       "      <td>295</td>\n",
       "      <td>33.039</td>\n",
       "      <td>Mallorca</td>\n",
       "    </tr>\n",
       "    <tr>\n",
       "      <th>3</th>\n",
       "      <td>CASA DE HUÉSPEDES</td>\n",
       "      <td>2020</td>\n",
       "      <td>15</td>\n",
       "      <td>479</td>\n",
       "      <td>Mallorca</td>\n",
       "    </tr>\n",
       "    <tr>\n",
       "      <th>4</th>\n",
       "      <td>CAMPING TURÍSTICO</td>\n",
       "      <td>2020</td>\n",
       "      <td>1</td>\n",
       "      <td>500</td>\n",
       "      <td>Mallorca</td>\n",
       "    </tr>\n",
       "    <tr>\n",
       "      <th>5</th>\n",
       "      <td>CIUDAD DE VACACIONES</td>\n",
       "      <td>2020</td>\n",
       "      <td>0</td>\n",
       "      <td>0</td>\n",
       "      <td>Mallorca</td>\n",
       "    </tr>\n",
       "    <tr>\n",
       "      <th>...</th>\n",
       "      <td>...</td>\n",
       "      <td>...</td>\n",
       "      <td>...</td>\n",
       "      <td>...</td>\n",
       "      <td>...</td>\n",
       "    </tr>\n",
       "    <tr>\n",
       "      <th>216</th>\n",
       "      <td>HOSTAL</td>\n",
       "      <td>2008</td>\n",
       "      <td>18</td>\n",
       "      <td>1.195</td>\n",
       "      <td>Formentera</td>\n",
       "    </tr>\n",
       "    <tr>\n",
       "      <th>217</th>\n",
       "      <td>HOSTAL RESIDENCIA</td>\n",
       "      <td>2008</td>\n",
       "      <td>9</td>\n",
       "      <td>385</td>\n",
       "      <td>Formentera</td>\n",
       "    </tr>\n",
       "    <tr>\n",
       "      <th>218</th>\n",
       "      <td>PENSIÓN</td>\n",
       "      <td>2008</td>\n",
       "      <td>0</td>\n",
       "      <td>0</td>\n",
       "      <td>Formentera</td>\n",
       "    </tr>\n",
       "    <tr>\n",
       "      <th>219</th>\n",
       "      <td>RESIDENCIA APARTAMENTO</td>\n",
       "      <td>2008</td>\n",
       "      <td>0</td>\n",
       "      <td>0</td>\n",
       "      <td>Formentera</td>\n",
       "    </tr>\n",
       "    <tr>\n",
       "      <th>220</th>\n",
       "      <td>TURISMO DE INTERIOR</td>\n",
       "      <td>2008</td>\n",
       "      <td>0</td>\n",
       "      <td>0</td>\n",
       "      <td>Formentera</td>\n",
       "    </tr>\n",
       "  </tbody>\n",
       "</table>\n",
       "<p>832 rows × 5 columns</p>\n",
       "</div>"
      ],
      "text/plain": [
       "            tipo_alojamiento  year num_establecim num_plazas        Isla\n",
       "1                AGROTURISMO  2020            286      5.590    Mallorca\n",
       "2    APARTAMENTOS TURÍSTICOS  2020            295     33.039    Mallorca\n",
       "3          CASA DE HUÉSPEDES  2020             15        479    Mallorca\n",
       "4          CAMPING TURÍSTICO  2020              1        500    Mallorca\n",
       "5       CIUDAD DE VACACIONES  2020              0          0    Mallorca\n",
       "..                       ...   ...            ...        ...         ...\n",
       "216                   HOSTAL  2008             18      1.195  Formentera\n",
       "217        HOSTAL RESIDENCIA  2008              9        385  Formentera\n",
       "218                  PENSIÓN  2008              0          0  Formentera\n",
       "219   RESIDENCIA APARTAMENTO  2008              0          0  Formentera\n",
       "220      TURISMO DE INTERIOR  2008              0          0  Formentera\n",
       "\n",
       "[832 rows x 5 columns]"
      ]
     },
     "execution_count": 14,
     "metadata": {},
     "output_type": "execute_result"
    }
   ],
   "source": [
    "total_establecim_plazas"
   ]
  },
  {
   "cell_type": "code",
   "execution_count": 13,
   "id": "ccd95970",
   "metadata": {},
   "outputs": [],
   "source": [
    "total_establecim_plazas['tipo_alojamiento'] = total_establecim_plazas['tipo_alojamiento'].str.replace(r\"\\(.*\\)\",\"\").str.lstrip()"
   ]
  },
  {
   "cell_type": "markdown",
   "id": "58ad99f0",
   "metadata": {},
   "source": [
    "Tipo de número. Todos son object - hay que pasarlos a numéricos"
   ]
  },
  {
   "cell_type": "code",
   "execution_count": null,
   "id": "1258ce6a",
   "metadata": {},
   "outputs": [],
   "source": [
    "total_establecim_plazas.dtypes"
   ]
  },
  {
   "cell_type": "code",
   "execution_count": null,
   "id": "59c48a4e",
   "metadata": {},
   "outputs": [],
   "source": [
    "def cambiar (strnum):\n",
    "\n",
    "    strnum = strnum.replace(\".\",\"\")\n",
    "    return strnum.replace(\",\",\".\")"
   ]
  },
  {
   "cell_type": "code",
   "execution_count": null,
   "id": "4b7676c4",
   "metadata": {},
   "outputs": [],
   "source": [
    "total_establecim_plazas['num_establecim'] = total_establecim_plazas['num_establecim'].apply(cambiar)\n",
    "total_establecim_plazas['num_establecim'] = pd.to_numeric(total_establecim_plazas['num_establecim'], errors = 'coerce')"
   ]
  },
  {
   "cell_type": "code",
   "execution_count": null,
   "id": "d94cabf1",
   "metadata": {},
   "outputs": [],
   "source": [
    "total_establecim_plazas['num_plazas'] = total_establecim_plazas['num_plazas'].apply(cambiar)\n",
    "total_establecim_plazas['num_plazas'] = pd.to_numeric(total_establecim_plazas['num_plazas'], errors = 'coerce')"
   ]
  },
  {
   "cell_type": "code",
   "execution_count": null,
   "id": "dd944040",
   "metadata": {},
   "outputs": [],
   "source": [
    "total_establecim_plazas['year'] = total_establecim_plazas['year'].astype(str).astype(int)"
   ]
  },
  {
   "cell_type": "code",
   "execution_count": null,
   "id": "e30af641",
   "metadata": {},
   "outputs": [],
   "source": [
    "total_establecim_plazas.dtypes"
   ]
  },
  {
   "cell_type": "code",
   "execution_count": null,
   "id": "9dfe43a9",
   "metadata": {},
   "outputs": [],
   "source": [
    "#total_establecim_plazas.to_csv(r'total_establecimientos.csv', index = False, header=True)"
   ]
  },
  {
   "cell_type": "code",
   "execution_count": null,
   "id": "86476883",
   "metadata": {},
   "outputs": [],
   "source": []
  }
 ],
 "metadata": {
  "kernelspec": {
   "display_name": "ironhack",
   "language": "python",
   "name": "ironhack"
  },
  "language_info": {
   "codemirror_mode": {
    "name": "ipython",
    "version": 3
   },
   "file_extension": ".py",
   "mimetype": "text/x-python",
   "name": "python",
   "nbconvert_exporter": "python",
   "pygments_lexer": "ipython3",
   "version": "3.8.2"
  }
 },
 "nbformat": 4,
 "nbformat_minor": 5
}
