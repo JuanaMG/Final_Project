{
 "cells": [
  {
   "cell_type": "code",
   "execution_count": null,
   "id": "d6a80260",
   "metadata": {},
   "outputs": [],
   "source": [
    "df = df.rename(columns={'Unnamed: 0':'Isla'})"
   ]
  },
  {
   "cell_type": "code",
   "execution_count": 1,
   "id": "9175f4d4",
   "metadata": {},
   "outputs": [],
   "source": [
    "def renomcolumna(df):\n",
    "    df.rename(columns={'Unnamed: 0':'tipo_alojamiento'})"
   ]
  },
  {
   "cell_type": "code",
   "execution_count": null,
   "id": "9a32e6bb",
   "metadata": {},
   "outputs": [],
   "source": [
    "def renomcolumna(df):\n",
    "    df.rename(columns={'Unnamed: 0':'tipo_alojamiento'},inplace=True)\n",
    "    df.insert(1, \"año\", \"\")"
   ]
  },
  {
   "cell_type": "code",
   "execution_count": null,
   "id": "5a954db3",
   "metadata": {},
   "outputs": [],
   "source": [
    "def renomcolumna(df):\n",
    "    df.rename(columns={'Unnamed: 0':'tipo_alojamiento'},inplace=True)\n",
    "    df.insert(1, \"Mes/año\", \"\")\n",
    "    df.insert(2, \"Isla\", \"\")"
   ]
  },
  {
   "cell_type": "code",
   "execution_count": null,
   "id": "a0dec24e",
   "metadata": {},
   "outputs": [],
   "source": [
    "def espacios (df):\n",
    "    df.Isla.str.strip()"
   ]
  },
  {
   "cell_type": "code",
   "execution_count": null,
   "id": "2aa39faf",
   "metadata": {},
   "outputs": [],
   "source": [
    "def eliminar_columna(df, columna):\n",
    "    df.drop(['columna'], axis=1, inplace=True)"
   ]
  },
  {
   "cell_type": "code",
   "execution_count": null,
   "id": "dbaa99d6",
   "metadata": {},
   "outputs": [],
   "source": [
    "def inicio(df):    \n",
    "    df.Isla.str.strip()\n",
    "    df.insert(1, \"Mes/año\", \"\")"
   ]
  },
  {
   "cell_type": "code",
   "execution_count": null,
   "id": "11ce58d3",
   "metadata": {},
   "outputs": [],
   "source": [
    "def columna_nueva(df):\n",
    "    df.insert(1, \"Mes/año\", \"\")"
   ]
  },
  {
   "cell_type": "code",
   "execution_count": null,
   "id": "4fdf2e83",
   "metadata": {},
   "outputs": [],
   "source": [
    "def fecha(df):\n",
    "    count = 0\n",
    "    cambioiloc = 0\n",
    "    lista_general = []\n",
    "    for i,row in df.iterrows():\n",
    "        lista_general.append(df.iloc[cambioiloc][\"Isla\"])\n",
    "        count += 1    \n",
    "        if count == 4:\n",
    "            cambioiloc = (i+1)\n",
    "            count=0\n",
    "    df[\"Mes/año\"] = lista_general   \n",
    "\n",
    "    for i, row in df.iterrows():\n",
    "        if row['Isla'] in lista_general:\n",
    "            df.drop(i, inplace=True)"
   ]
  },
  {
   "cell_type": "code",
   "execution_count": null,
   "id": "1bec40cb",
   "metadata": {},
   "outputs": [],
   "source": [
    "def lugar(df):\n",
    "    count = 0\n",
    "    cambioiloc = 0\n",
    "    lista_general = []\n",
    "    for i,row in df.iterrows():\n",
    "        lista_general.append(df.iloc[cambioiloc][\"procedencia\"])\n",
    "        count += 1    \n",
    "        if count == 4:\n",
    "            cambioiloc = (i+1)\n",
    "            count=0\n",
    "    df[\"Isla\"] = lista_general   \n",
    "\n",
    "    for i, row in df.iterrows():\n",
    "        if row['procedencia'] in lista_general:\n",
    "            df.drop(i, inplace=True)\n",
    "        if row['procedencia'] == 'TOTAL':\n",
    "            df.drop(i, inplace=True)"
   ]
  },
  {
   "cell_type": "code",
   "execution_count": null,
   "id": "1c3d400c",
   "metadata": {},
   "outputs": [],
   "source": [
    "def month_year(df):\n",
    "    df['year'], df['month'] = df[\"Mes/año\"].str.split('M', 1).str\n",
    "    df.drop(['Mes/año'], axis = 1, inplace= True)"
   ]
  },
  {
   "cell_type": "code",
   "execution_count": null,
   "id": "3226841c",
   "metadata": {},
   "outputs": [],
   "source": [
    "def total(df):\n",
    "    for i, row in df.iterrows():\n",
    "        if row['origen_turista'] == 'TOTAL':\n",
    "            df.drop(i, inplace=True)"
   ]
  },
  {
   "cell_type": "code",
   "execution_count": null,
   "id": "ea235a38",
   "metadata": {},
   "outputs": [],
   "source": [
    "num_turistas['origen_turistas'] = num_turistas['origen_turistas'].str.replace(\"\\(\\d+\\)\", \"\").str.replace(\"\\d+\", \"\")"
   ]
  },
  {
   "cell_type": "code",
   "execution_count": null,
   "id": "e6a5a98f",
   "metadata": {},
   "outputs": [],
   "source": [
    "def indice(df):\n",
    "    df.reset_index(inplace=True)\n",
    "    df.drop(columns = 'index', inplace = True)"
   ]
  },
  {
   "cell_type": "code",
   "execution_count": null,
   "id": "fdf2b2ec",
   "metadata": {},
   "outputs": [],
   "source": [
    "# Pasar valores 'object' a float (cuando son miles, no funciona)\n",
    "def replacee(s):\n",
    "    i=str(s).find(',')\n",
    "    if(i>0):\n",
    "        return s[:i] + '.' + s[i+1:]\n",
    "    else :\n",
    "        return s\n",
    "    \n",
    "df['columna']=df['columna'].apply(replacee)\n",
    "df['columna'] = pd.to_numeric(df['columna'],errors = 'coerce')"
   ]
  },
  {
   "cell_type": "code",
   "execution_count": null,
   "id": "f437ac8a",
   "metadata": {},
   "outputs": [],
   "source": [
    "def sustituir(x):\n",
    "    if x == 'Eivissa-Formentera': \n",
    "        return 'Ibiza_Formentera'\n",
    "    else:\n",
    "        return x\n",
    "df.columna=df.columna.apply(sustituir_2)"
   ]
  },
  {
   "cell_type": "code",
   "execution_count": null,
   "id": "f740e3fa",
   "metadata": {},
   "outputs": [],
   "source": [
    "#df['columna']= df['columna'].replace(['...'],[np.nan])"
   ]
  },
  {
   "cell_type": "code",
   "execution_count": null,
   "id": "acc79b37",
   "metadata": {},
   "outputs": [],
   "source": [
    "def cambiar (strnum):\n",
    "\n",
    "    strnum = strnum.replace(\".\",\"\")\n",
    "    return strnum.replace(\",\",\".\")"
   ]
  }
 ],
 "metadata": {
  "kernelspec": {
   "display_name": "ironhack",
   "language": "python",
   "name": "ironhack"
  },
  "language_info": {
   "codemirror_mode": {
    "name": "ipython",
    "version": 3
   },
   "file_extension": ".py",
   "mimetype": "text/x-python",
   "name": "python",
   "nbconvert_exporter": "python",
   "pygments_lexer": "ipython3",
   "version": "3.8.2"
  }
 },
 "nbformat": 4,
 "nbformat_minor": 5
}
