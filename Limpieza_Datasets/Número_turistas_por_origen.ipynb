{
 "cells": [
  {
   "cell_type": "code",
   "execution_count": 1,
   "id": "2b556553",
   "metadata": {},
   "outputs": [],
   "source": [
    "import pandas as pd\n",
    "\n",
    "import warnings\n",
    "warnings.simplefilter('ignore')"
   ]
  },
  {
   "cell_type": "code",
   "execution_count": 51,
   "id": "483831f7",
   "metadata": {},
   "outputs": [],
   "source": [
    "num_turistas = pd.read_csv('../Limpieza_Datasets/data/Número_turistas_y_origen.csv', sep = ';')\n",
    "num_turistas_2015 = pd.read_csv('../Limpieza_Datasets/data/Número_turistas_y_origen_2015.csv', sep = ';')"
   ]
  },
  {
   "cell_type": "code",
   "execution_count": 52,
   "id": "5d0ee256",
   "metadata": {},
   "outputs": [],
   "source": [
    "num_turistas.drop(['ILLES BALEARS'], axis=1, inplace=True)"
   ]
  },
  {
   "cell_type": "code",
   "execution_count": 53,
   "id": "d19e6501",
   "metadata": {},
   "outputs": [],
   "source": [
    "def renomcolumna(df):\n",
    "    df.rename(columns={'Unnamed: 0':'origen_turistas',\n",
    "                      'Eivissa-Formentera':'Ibiza_Formentera'}, inplace=True)"
   ]
  },
  {
   "cell_type": "code",
   "execution_count": 54,
   "id": "d1d825ed",
   "metadata": {},
   "outputs": [],
   "source": [
    "renomcolumna(num_turistas)\n",
    "renomcolumna(num_turistas_2015)"
   ]
  },
  {
   "cell_type": "code",
   "execution_count": 55,
   "id": "b1c89342",
   "metadata": {},
   "outputs": [],
   "source": [
    "def columna_nueva(df):\n",
    "    df.insert(1, \"Mes/año\", \"\")"
   ]
  },
  {
   "cell_type": "code",
   "execution_count": 56,
   "id": "721f7c87",
   "metadata": {},
   "outputs": [],
   "source": [
    "columna_nueva(num_turistas)"
   ]
  },
  {
   "cell_type": "code",
   "execution_count": 57,
   "id": "81bd9cba",
   "metadata": {},
   "outputs": [],
   "source": [
    "columna_nueva(num_turistas_2015)"
   ]
  },
  {
   "cell_type": "code",
   "execution_count": 58,
   "id": "780e3161",
   "metadata": {},
   "outputs": [],
   "source": [
    "def fecha(df):\n",
    "    count = 0\n",
    "    cambioiloc = 0\n",
    "    lista_general = []\n",
    "    for i,row in df.iterrows():\n",
    "        lista_general.append(df.iloc[cambioiloc][\"origen_turistas\"])\n",
    "        count += 1    \n",
    "        if count == 11:\n",
    "            cambioiloc = (i+1)\n",
    "            count=0\n",
    "    df[\"Mes/año\"] = lista_general   \n",
    "\n",
    "    for i, row in df.iterrows():\n",
    "        if row['origen_turistas'] in lista_general:\n",
    "            df.drop(i, inplace=True)"
   ]
  },
  {
   "cell_type": "code",
   "execution_count": 59,
   "id": "e37af3c7",
   "metadata": {},
   "outputs": [],
   "source": [
    "fecha(num_turistas)"
   ]
  },
  {
   "cell_type": "code",
   "execution_count": 60,
   "id": "2fd6524f",
   "metadata": {},
   "outputs": [],
   "source": [
    "def fecha_2015(df):\n",
    "    count = 0\n",
    "    cambioiloc = 0\n",
    "    lista_general = []\n",
    "    for i,row in df.iterrows():\n",
    "        lista_general.append(df.iloc[cambioiloc][\"origen_turistas\"])\n",
    "        count += 1    \n",
    "        if count == 14:\n",
    "            cambioiloc = (i+1)\n",
    "            count=0\n",
    "    df[\"Mes/año\"] = lista_general   \n",
    "\n",
    "    for i, row in df.iterrows():\n",
    "        if row['origen_turistas'] in lista_general:\n",
    "            df.drop(i, inplace=True)"
   ]
  },
  {
   "cell_type": "code",
   "execution_count": 61,
   "id": "c6a2c501",
   "metadata": {},
   "outputs": [],
   "source": [
    "fecha_2015(num_turistas_2015)"
   ]
  },
  {
   "cell_type": "code",
   "execution_count": 62,
   "id": "dad42046",
   "metadata": {
    "scrolled": false
   },
   "outputs": [
    {
     "name": "stderr",
     "output_type": "stream",
     "text": [
      "<ipython-input-62-1c738b20f044>:1: FutureWarning: The default value of regex will change from True to False in a future version.\n",
      "  num_turistas['origen_turistas'] = num_turistas['origen_turistas'].str.replace(\"\\(\\d+\\)\", \"\").str.replace(\"\\d+\", \"\").str.replace(\".\", \"\").str.strip()\n",
      "<ipython-input-62-1c738b20f044>:1: FutureWarning: The default value of regex will change from True to False in a future version. In addition, single character regular expressions will *not* be treated as literal strings when regex=True.\n",
      "  num_turistas['origen_turistas'] = num_turistas['origen_turistas'].str.replace(\"\\(\\d+\\)\", \"\").str.replace(\"\\d+\", \"\").str.replace(\".\", \"\").str.strip()\n",
      "<ipython-input-62-1c738b20f044>:2: FutureWarning: The default value of regex will change from True to False in a future version.\n",
      "  num_turistas_2015['origen_turistas'] = num_turistas_2015['origen_turistas'].str.replace(\"\\(\\d+\\)\", \"\").str.replace(\"\\d+\", \"\").str.replace(\".\", \"\").str.strip()\n",
      "<ipython-input-62-1c738b20f044>:2: FutureWarning: The default value of regex will change from True to False in a future version. In addition, single character regular expressions will *not* be treated as literal strings when regex=True.\n",
      "  num_turistas_2015['origen_turistas'] = num_turistas_2015['origen_turistas'].str.replace(\"\\(\\d+\\)\", \"\").str.replace(\"\\d+\", \"\").str.replace(\".\", \"\").str.strip()\n"
     ]
    }
   ],
   "source": [
    "num_turistas['origen_turistas'] = num_turistas['origen_turistas'].str.replace(\"\\(\\d+\\)\", \"\").str.replace(\"\\d+\", \"\").str.replace(\".\", \"\").str.strip()\n",
    "num_turistas_2015['origen_turistas'] = num_turistas_2015['origen_turistas'].str.replace(\"\\(\\d+\\)\", \"\").str.replace(\"\\d+\", \"\").str.replace(\".\", \"\").str.strip()"
   ]
  },
  {
   "cell_type": "code",
   "execution_count": 63,
   "id": "04ba13cf",
   "metadata": {},
   "outputs": [
    {
     "name": "stderr",
     "output_type": "stream",
     "text": [
      "<ipython-input-63-d8c9ad560d8d>:1: FutureWarning: The default value of regex will change from True to False in a future version.\n",
      "  num_turistas['origen_turistas'] = num_turistas['origen_turistas'].str.replace(r\"\\(.*\\)\",\"\").str.rstrip()\n",
      "<ipython-input-63-d8c9ad560d8d>:2: FutureWarning: The default value of regex will change from True to False in a future version.\n",
      "  num_turistas_2015['origen_turistas'] = num_turistas_2015['origen_turistas'].str.replace(r\"\\(.*\\)\",\"\").str.rstrip()\n"
     ]
    }
   ],
   "source": [
    "num_turistas['origen_turistas'] = num_turistas['origen_turistas'].str.replace(r\"\\(.*\\)\",\"\").str.rstrip()\n",
    "num_turistas_2015['origen_turistas'] = num_turistas_2015['origen_turistas'].str.replace(r\"\\(.*\\)\",\"\").str.rstrip()"
   ]
  },
  {
   "cell_type": "code",
   "execution_count": null,
   "id": "8541f6a4",
   "metadata": {},
   "outputs": [],
   "source": []
  },
  {
   "cell_type": "code",
   "execution_count": 64,
   "id": "5ffbc683",
   "metadata": {
    "scrolled": false
   },
   "outputs": [
    {
     "data": {
      "text/html": [
       "<div>\n",
       "<style scoped>\n",
       "    .dataframe tbody tr th:only-of-type {\n",
       "        vertical-align: middle;\n",
       "    }\n",
       "\n",
       "    .dataframe tbody tr th {\n",
       "        vertical-align: top;\n",
       "    }\n",
       "\n",
       "    .dataframe thead th {\n",
       "        text-align: right;\n",
       "    }\n",
       "</style>\n",
       "<table border=\"1\" class=\"dataframe\">\n",
       "  <thead>\n",
       "    <tr style=\"text-align: right;\">\n",
       "      <th></th>\n",
       "      <th>origen_turistas</th>\n",
       "      <th>Mes/año</th>\n",
       "      <th>Mallorca</th>\n",
       "      <th>Menorca</th>\n",
       "      <th>Ibiza_Formentera</th>\n",
       "    </tr>\n",
       "  </thead>\n",
       "  <tbody>\n",
       "    <tr>\n",
       "      <th>1</th>\n",
       "      <td>TOTAL</td>\n",
       "      <td>2021M12</td>\n",
       "      <td>156.919</td>\n",
       "      <td>8.116</td>\n",
       "      <td>25.409</td>\n",
       "    </tr>\n",
       "    <tr>\n",
       "      <th>2</th>\n",
       "      <td>ESPAÑA</td>\n",
       "      <td>2021M12</td>\n",
       "      <td>53.234</td>\n",
       "      <td>6.350</td>\n",
       "      <td>16.220</td>\n",
       "    </tr>\n",
       "    <tr>\n",
       "      <th>3</th>\n",
       "      <td>EXTRANJERO</td>\n",
       "      <td>2021M12</td>\n",
       "      <td>103.686</td>\n",
       "      <td>1.766</td>\n",
       "      <td>9.189</td>\n",
       "    </tr>\n",
       "    <tr>\n",
       "      <th>4</th>\n",
       "      <td>Francia</td>\n",
       "      <td>2021M12</td>\n",
       "      <td>6.904</td>\n",
       "      <td>786</td>\n",
       "      <td>278</td>\n",
       "    </tr>\n",
       "    <tr>\n",
       "      <th>5</th>\n",
       "      <td>Italia</td>\n",
       "      <td>2021M12</td>\n",
       "      <td>2.732</td>\n",
       "      <td>...</td>\n",
       "      <td>...</td>\n",
       "    </tr>\n",
       "    <tr>\n",
       "      <th>6</th>\n",
       "      <td>Reino Unido</td>\n",
       "      <td>2021M12</td>\n",
       "      <td>8.899</td>\n",
       "      <td>477</td>\n",
       "      <td>1.184</td>\n",
       "    </tr>\n",
       "    <tr>\n",
       "      <th>7</th>\n",
       "      <td>Alemania</td>\n",
       "      <td>2021M12</td>\n",
       "      <td>55.336</td>\n",
       "      <td>...</td>\n",
       "      <td>2.225</td>\n",
       "    </tr>\n",
       "    <tr>\n",
       "      <th>8</th>\n",
       "      <td>Bélgica, Luxemburgo y Países Bajos</td>\n",
       "      <td>2021M12</td>\n",
       "      <td>5.176</td>\n",
       "      <td>...</td>\n",
       "      <td>3.914</td>\n",
       "    </tr>\n",
       "    <tr>\n",
       "      <th>9</th>\n",
       "      <td>Países nórdicos</td>\n",
       "      <td>2021M12</td>\n",
       "      <td>4.660</td>\n",
       "      <td>...</td>\n",
       "      <td>...</td>\n",
       "    </tr>\n",
       "    <tr>\n",
       "      <th>10</th>\n",
       "      <td>Resto del mundo</td>\n",
       "      <td>2021M12</td>\n",
       "      <td>19.979</td>\n",
       "      <td>...</td>\n",
       "      <td>1.179</td>\n",
       "    </tr>\n",
       "    <tr>\n",
       "      <th>12</th>\n",
       "      <td>TOTAL</td>\n",
       "      <td>2021M11</td>\n",
       "      <td>195.543</td>\n",
       "      <td>9.874</td>\n",
       "      <td>27.174</td>\n",
       "    </tr>\n",
       "    <tr>\n",
       "      <th>13</th>\n",
       "      <td>ESPAÑA</td>\n",
       "      <td>2021M11</td>\n",
       "      <td>63.881</td>\n",
       "      <td>6.692</td>\n",
       "      <td>13.896</td>\n",
       "    </tr>\n",
       "    <tr>\n",
       "      <th>14</th>\n",
       "      <td>EXTRANJERO</td>\n",
       "      <td>2021M11</td>\n",
       "      <td>131.662</td>\n",
       "      <td>3.182</td>\n",
       "      <td>13.279</td>\n",
       "    </tr>\n",
       "    <tr>\n",
       "      <th>15</th>\n",
       "      <td>Francia</td>\n",
       "      <td>2021M11</td>\n",
       "      <td>7.205</td>\n",
       "      <td>1.270</td>\n",
       "      <td>3.479</td>\n",
       "    </tr>\n",
       "    <tr>\n",
       "      <th>16</th>\n",
       "      <td>Italia</td>\n",
       "      <td>2021M11</td>\n",
       "      <td>2.256</td>\n",
       "      <td>...</td>\n",
       "      <td>481</td>\n",
       "    </tr>\n",
       "  </tbody>\n",
       "</table>\n",
       "</div>"
      ],
      "text/plain": [
       "                       origen_turistas  Mes/año Mallorca Menorca  \\\n",
       "1                                TOTAL  2021M12  156.919   8.116   \n",
       "2                               ESPAÑA  2021M12   53.234   6.350   \n",
       "3                           EXTRANJERO  2021M12  103.686   1.766   \n",
       "4                              Francia  2021M12    6.904     786   \n",
       "5                               Italia  2021M12    2.732     ...   \n",
       "6                          Reino Unido  2021M12    8.899     477   \n",
       "7                             Alemania  2021M12   55.336     ...   \n",
       "8   Bélgica, Luxemburgo y Países Bajos  2021M12    5.176     ...   \n",
       "9                      Países nórdicos  2021M12    4.660     ...   \n",
       "10                     Resto del mundo  2021M12   19.979     ...   \n",
       "12                               TOTAL  2021M11  195.543   9.874   \n",
       "13                              ESPAÑA  2021M11   63.881   6.692   \n",
       "14                          EXTRANJERO  2021M11  131.662   3.182   \n",
       "15                             Francia  2021M11    7.205   1.270   \n",
       "16                              Italia  2021M11    2.256     ...   \n",
       "\n",
       "   Ibiza_Formentera  \n",
       "1            25.409  \n",
       "2            16.220  \n",
       "3             9.189  \n",
       "4               278  \n",
       "5               ...  \n",
       "6             1.184  \n",
       "7             2.225  \n",
       "8             3.914  \n",
       "9               ...  \n",
       "10            1.179  \n",
       "12           27.174  \n",
       "13           13.896  \n",
       "14           13.279  \n",
       "15            3.479  \n",
       "16              481  "
      ]
     },
     "execution_count": 64,
     "metadata": {},
     "output_type": "execute_result"
    }
   ],
   "source": [
    "num_turistas.head(15)"
   ]
  },
  {
   "cell_type": "code",
   "execution_count": 65,
   "id": "47faf2d2",
   "metadata": {},
   "outputs": [],
   "source": [
    "def eliminar_cosas(x):\n",
    "    for i, row in x.iterrows():\n",
    "        if row['origen_turistas'] == 'TOTAL':\n",
    "            x.drop(i, inplace=True)\n",
    "        if row['origen_turistas'] == 'EXTRANJERO':\n",
    "            x.drop(i, inplace=True)\n",
    "        if row['origen_turistas'] == 'Resto del mundo':\n",
    "            x.drop(i, inplace=True)"
   ]
  },
  {
   "cell_type": "code",
   "execution_count": 66,
   "id": "f0468861",
   "metadata": {},
   "outputs": [],
   "source": [
    "eliminar_cosas(num_turistas)\n",
    "eliminar_cosas(num_turistas_2015)"
   ]
  },
  {
   "cell_type": "code",
   "execution_count": 67,
   "id": "87e40be3",
   "metadata": {},
   "outputs": [],
   "source": [
    "def month_year(df):\n",
    "    df['year'], df['month'] = df[\"Mes/año\"].str.split('M', 1).str\n",
    "    df.drop(['Mes/año'], axis = 1, inplace= True)"
   ]
  },
  {
   "cell_type": "code",
   "execution_count": 68,
   "id": "cbf4e69d",
   "metadata": {
    "scrolled": true
   },
   "outputs": [
    {
     "name": "stderr",
     "output_type": "stream",
     "text": [
      "<ipython-input-67-4b29fdac01bc>:2: FutureWarning: Columnar iteration over characters will be deprecated in future releases.\n",
      "  df['year'], df['month'] = df[\"Mes/año\"].str.split('M', 1).str\n"
     ]
    }
   ],
   "source": [
    "month_year(num_turistas)"
   ]
  },
  {
   "cell_type": "code",
   "execution_count": 69,
   "id": "92b512b2",
   "metadata": {},
   "outputs": [
    {
     "name": "stderr",
     "output_type": "stream",
     "text": [
      "<ipython-input-67-4b29fdac01bc>:2: FutureWarning: Columnar iteration over characters will be deprecated in future releases.\n",
      "  df['year'], df['month'] = df[\"Mes/año\"].str.split('M', 1).str\n"
     ]
    }
   ],
   "source": [
    "month_year(num_turistas_2015)"
   ]
  },
  {
   "cell_type": "code",
   "execution_count": 70,
   "id": "fa36ecb5",
   "metadata": {},
   "outputs": [],
   "source": [
    "def indice(df):\n",
    "    df.reset_index(inplace=True)\n",
    "    df.drop(columns = 'index', inplace = True)"
   ]
  },
  {
   "cell_type": "code",
   "execution_count": 71,
   "id": "a5b11e11",
   "metadata": {},
   "outputs": [],
   "source": [
    "indice(num_turistas)"
   ]
  },
  {
   "cell_type": "code",
   "execution_count": 72,
   "id": "9747e9f2",
   "metadata": {},
   "outputs": [],
   "source": [
    "indice(num_turistas_2015)"
   ]
  },
  {
   "cell_type": "code",
   "execution_count": 74,
   "id": "dd742ef0",
   "metadata": {},
   "outputs": [],
   "source": [
    "def eliminar_cosas(x):\n",
    "    for i, row in x.iterrows():\n",
    "        if row['origen_turistas'] == 'Irlanda':\n",
    "            x.drop(i, inplace=True)\n",
    "        if row['origen_turistas'] == 'Austria':\n",
    "            x.drop(i, inplace=True)\n",
    "        if row['origen_turistas'] == 'Suiza':\n",
    "            x.drop(i, inplace=True)"
   ]
  },
  {
   "cell_type": "code",
   "execution_count": 75,
   "id": "5dc0d5f7",
   "metadata": {},
   "outputs": [],
   "source": [
    "eliminar_cosas(num_turistas_2015)"
   ]
  },
  {
   "cell_type": "code",
   "execution_count": 76,
   "id": "a900a3c2",
   "metadata": {
    "scrolled": true
   },
   "outputs": [
    {
     "data": {
      "text/plain": [
       "array(['ESPAÑA', 'Francia', 'Italia', 'Reino Unido', 'Alemania',\n",
       "       'Bélgica, Luxemburgo y Países Bajos', 'Países nórdicos'],\n",
       "      dtype=object)"
      ]
     },
     "execution_count": 76,
     "metadata": {},
     "output_type": "execute_result"
    }
   ],
   "source": [
    "num_turistas_2015.origen_turistas.unique()"
   ]
  },
  {
   "cell_type": "code",
   "execution_count": 30,
   "id": "87b2054e",
   "metadata": {},
   "outputs": [],
   "source": [
    "# Los datos previos a 2015 de Austria e Irlanda se van a eliminar ya que en el análisis exploratorio \n",
    "# se ha visto que el número de turistas es mucho menor debido a que de 2015 en adelante no hay datos al respecto"
   ]
  },
  {
   "cell_type": "code",
   "execution_count": 78,
   "id": "32f0f142",
   "metadata": {},
   "outputs": [
    {
     "data": {
      "text/plain": [
       "array(['ESPAÑA', 'Francia', 'Italia', 'Reino Unido', 'Alemania',\n",
       "       'Bélgica, Luxemburgo y Países Bajos', 'Países nórdicos'],\n",
       "      dtype=object)"
      ]
     },
     "execution_count": 78,
     "metadata": {},
     "output_type": "execute_result"
    }
   ],
   "source": [
    "num_turistas.origen_turistas.unique()"
   ]
  },
  {
   "cell_type": "code",
   "execution_count": null,
   "id": "03bb4a03",
   "metadata": {},
   "outputs": [],
   "source": []
  },
  {
   "cell_type": "code",
   "execution_count": 79,
   "id": "cb7ebbf1",
   "metadata": {},
   "outputs": [],
   "source": [
    "num_turistas_ok = pd.concat([num_turistas, num_turistas_2015])"
   ]
  },
  {
   "cell_type": "code",
   "execution_count": 80,
   "id": "6eb6d2d3",
   "metadata": {},
   "outputs": [
    {
     "data": {
      "text/html": [
       "<div>\n",
       "<style scoped>\n",
       "    .dataframe tbody tr th:only-of-type {\n",
       "        vertical-align: middle;\n",
       "    }\n",
       "\n",
       "    .dataframe tbody tr th {\n",
       "        vertical-align: top;\n",
       "    }\n",
       "\n",
       "    .dataframe thead th {\n",
       "        text-align: right;\n",
       "    }\n",
       "</style>\n",
       "<table border=\"1\" class=\"dataframe\">\n",
       "  <thead>\n",
       "    <tr style=\"text-align: right;\">\n",
       "      <th></th>\n",
       "      <th>origen_turistas</th>\n",
       "      <th>Mallorca</th>\n",
       "      <th>Menorca</th>\n",
       "      <th>Ibiza_Formentera</th>\n",
       "      <th>year</th>\n",
       "      <th>month</th>\n",
       "    </tr>\n",
       "  </thead>\n",
       "  <tbody>\n",
       "    <tr>\n",
       "      <th>0</th>\n",
       "      <td>ESPAÑA</td>\n",
       "      <td>53.234</td>\n",
       "      <td>6.350</td>\n",
       "      <td>16.220</td>\n",
       "      <td>2021</td>\n",
       "      <td>12</td>\n",
       "    </tr>\n",
       "    <tr>\n",
       "      <th>1</th>\n",
       "      <td>Francia</td>\n",
       "      <td>6.904</td>\n",
       "      <td>786</td>\n",
       "      <td>278</td>\n",
       "      <td>2021</td>\n",
       "      <td>12</td>\n",
       "    </tr>\n",
       "    <tr>\n",
       "      <th>2</th>\n",
       "      <td>Italia</td>\n",
       "      <td>2.732</td>\n",
       "      <td>...</td>\n",
       "      <td>...</td>\n",
       "      <td>2021</td>\n",
       "      <td>12</td>\n",
       "    </tr>\n",
       "    <tr>\n",
       "      <th>3</th>\n",
       "      <td>Reino Unido</td>\n",
       "      <td>8.899</td>\n",
       "      <td>477</td>\n",
       "      <td>1.184</td>\n",
       "      <td>2021</td>\n",
       "      <td>12</td>\n",
       "    </tr>\n",
       "    <tr>\n",
       "      <th>4</th>\n",
       "      <td>Alemania</td>\n",
       "      <td>55.336</td>\n",
       "      <td>...</td>\n",
       "      <td>2.225</td>\n",
       "      <td>2021</td>\n",
       "      <td>12</td>\n",
       "    </tr>\n",
       "  </tbody>\n",
       "</table>\n",
       "</div>"
      ],
      "text/plain": [
       "  origen_turistas Mallorca Menorca Ibiza_Formentera  year month\n",
       "0          ESPAÑA   53.234   6.350           16.220  2021    12\n",
       "1         Francia    6.904     786              278  2021    12\n",
       "2          Italia    2.732     ...              ...  2021    12\n",
       "3     Reino Unido    8.899     477            1.184  2021    12\n",
       "4        Alemania   55.336     ...            2.225  2021    12"
      ]
     },
     "execution_count": 80,
     "metadata": {},
     "output_type": "execute_result"
    }
   ],
   "source": [
    "num_turistas_ok.head()"
   ]
  },
  {
   "cell_type": "code",
   "execution_count": 81,
   "id": "509058e3",
   "metadata": {},
   "outputs": [],
   "source": [
    "turistas_pmi = num_turistas_ok[['origen_turistas','year', 'month', 'Mallorca']]\n",
    "turistas_pmi.insert(1, \"Isla\", \"Mallorca\")\n",
    "turistas_pmi = turistas_pmi.rename(columns={'Mallorca':'Num_turistas'})"
   ]
  },
  {
   "cell_type": "code",
   "execution_count": 82,
   "id": "bb806822",
   "metadata": {},
   "outputs": [],
   "source": [
    "turistas_mah = num_turistas_ok[['origen_turistas','year', 'month', 'Menorca']]\n",
    "turistas_mah.insert(1, \"Isla\", \"Menorca\")\n",
    "turistas_mah = turistas_mah.rename(columns={'Menorca':'Num_turistas'})"
   ]
  },
  {
   "cell_type": "code",
   "execution_count": 83,
   "id": "79ae0297",
   "metadata": {},
   "outputs": [],
   "source": [
    "turistas_ibz = num_turistas_ok[['origen_turistas','year', 'month', 'Ibiza_Formentera']]\n",
    "turistas_ibz.insert(1, \"Isla\", \"Ibiza_Formentera\")\n",
    "turistas_ibz = turistas_ibz.rename(columns={'Ibiza_Formentera':'Num_turistas'})"
   ]
  },
  {
   "cell_type": "code",
   "execution_count": 84,
   "id": "7974b926",
   "metadata": {},
   "outputs": [],
   "source": [
    "num_turistas_final = pd.concat([turistas_pmi, turistas_mah, turistas_ibz])"
   ]
  },
  {
   "cell_type": "code",
   "execution_count": 85,
   "id": "5c115248",
   "metadata": {},
   "outputs": [],
   "source": [
    "def cambiar (strnum):\n",
    "\n",
    "    strnum = strnum.replace(\".\",\"\")\n",
    "    return strnum.replace(\",\",\".\")"
   ]
  },
  {
   "cell_type": "code",
   "execution_count": 86,
   "id": "4d0d56ac",
   "metadata": {},
   "outputs": [],
   "source": [
    "num_turistas_final['Num_turistas'] = num_turistas_final['Num_turistas'].apply(cambiar)\n",
    "num_turistas_final['Num_turistas'] = pd.to_numeric(num_turistas_final['Num_turistas'], errors = 'coerce')"
   ]
  },
  {
   "cell_type": "code",
   "execution_count": 87,
   "id": "729cbac4",
   "metadata": {},
   "outputs": [],
   "source": [
    "num_turistas_final['year'] = num_turistas_final['year'].astype(str).astype(int)\n",
    "num_turistas_final['month'] = num_turistas_final['month'].astype(str).astype(int)"
   ]
  },
  {
   "cell_type": "code",
   "execution_count": 88,
   "id": "63307361",
   "metadata": {
    "scrolled": true
   },
   "outputs": [
    {
     "data": {
      "text/plain": [
       "origen_turistas     object\n",
       "Isla                object\n",
       "year                 int64\n",
       "month                int64\n",
       "Num_turistas       float64\n",
       "dtype: object"
      ]
     },
     "execution_count": 88,
     "metadata": {},
     "output_type": "execute_result"
    }
   ],
   "source": [
    "num_turistas_final.dtypes"
   ]
  },
  {
   "cell_type": "code",
   "execution_count": 89,
   "id": "6ae8b17f",
   "metadata": {},
   "outputs": [],
   "source": [
    "# Se eliminan los datos referentes a 'Resto del mundo' ya que no son objeto de estudio y además \n",
    "# solo se encuentras en los datos previos a 2015,de ahí en adelante no están"
   ]
  },
  {
   "cell_type": "code",
   "execution_count": 91,
   "id": "ad5d73c8",
   "metadata": {},
   "outputs": [],
   "source": [
    "#num_turistas_final.to_csv(r'num_turistas_origen.csv', index = False, header=True)"
   ]
  },
  {
   "cell_type": "code",
   "execution_count": null,
   "id": "1071bb32",
   "metadata": {},
   "outputs": [],
   "source": []
  }
 ],
 "metadata": {
  "kernelspec": {
   "display_name": "ironhack",
   "language": "python",
   "name": "ironhack"
  },
  "language_info": {
   "codemirror_mode": {
    "name": "ipython",
    "version": 3
   },
   "file_extension": ".py",
   "mimetype": "text/x-python",
   "name": "python",
   "nbconvert_exporter": "python",
   "pygments_lexer": "ipython3",
   "version": "3.8.2"
  }
 },
 "nbformat": 4,
 "nbformat_minor": 5
}
