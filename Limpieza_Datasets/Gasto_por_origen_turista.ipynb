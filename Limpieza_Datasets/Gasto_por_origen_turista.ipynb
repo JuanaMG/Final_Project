{
 "cells": [
  {
   "cell_type": "code",
   "execution_count": 1,
   "id": "a1b9473e",
   "metadata": {},
   "outputs": [],
   "source": [
    "import pandas as pd\n",
    "\n",
    "import warnings\n",
    "warnings.simplefilter('ignore')"
   ]
  },
  {
   "cell_type": "code",
   "execution_count": 2,
   "id": "c5978922",
   "metadata": {},
   "outputs": [],
   "source": [
    "gasto_origen_turista = pd.read_csv('../Limpieza_Datasets/data/Gasto_pais_residencia.csv', sep=';')\n",
    "gasto_origen_turista_2015 = pd.read_csv('../Limpieza_Datasets/data/Gasto_pais_residencia_2015_new.csv', sep = ';')"
   ]
  },
  {
   "cell_type": "code",
   "execution_count": 3,
   "id": "259d1555",
   "metadata": {},
   "outputs": [
    {
     "data": {
      "text/html": [
       "<div>\n",
       "<style scoped>\n",
       "    .dataframe tbody tr th:only-of-type {\n",
       "        vertical-align: middle;\n",
       "    }\n",
       "\n",
       "    .dataframe tbody tr th {\n",
       "        vertical-align: top;\n",
       "    }\n",
       "\n",
       "    .dataframe thead th {\n",
       "        text-align: right;\n",
       "    }\n",
       "</style>\n",
       "<table border=\"1\" class=\"dataframe\">\n",
       "  <thead>\n",
       "    <tr style=\"text-align: right;\">\n",
       "      <th></th>\n",
       "      <th>Unnamed: 0</th>\n",
       "      <th>Gasto total (millones de euros)</th>\n",
       "      <th>Gasto por persona (euros)</th>\n",
       "      <th>Gasto por persona y día (euros)</th>\n",
       "    </tr>\n",
       "  </thead>\n",
       "  <tbody>\n",
       "    <tr>\n",
       "      <th>0</th>\n",
       "      <td>2021M12</td>\n",
       "      <td>NaN</td>\n",
       "      <td>NaN</td>\n",
       "      <td>NaN</td>\n",
       "    </tr>\n",
       "    <tr>\n",
       "      <th>1</th>\n",
       "      <td>TOTAL</td>\n",
       "      <td>162,66</td>\n",
       "      <td>854,13</td>\n",
       "      <td>107,97</td>\n",
       "    </tr>\n",
       "    <tr>\n",
       "      <th>2</th>\n",
       "      <td>ESPAÑA (Otras CCAA)</td>\n",
       "      <td>35,28</td>\n",
       "      <td>465,42</td>\n",
       "      <td>81,44</td>\n",
       "    </tr>\n",
       "    <tr>\n",
       "      <th>3</th>\n",
       "      <td>EXTRANJERO</td>\n",
       "      <td>127,38</td>\n",
       "      <td>1.111,16</td>\n",
       "      <td>118,67</td>\n",
       "    </tr>\n",
       "    <tr>\n",
       "      <th>4</th>\n",
       "      <td>(110) Francia</td>\n",
       "      <td>3,84</td>\n",
       "      <td>482,04</td>\n",
       "      <td>106,16</td>\n",
       "    </tr>\n",
       "    <tr>\n",
       "      <th>...</th>\n",
       "      <td>...</td>\n",
       "      <td>...</td>\n",
       "      <td>...</td>\n",
       "      <td>...</td>\n",
       "    </tr>\n",
       "    <tr>\n",
       "      <th>895</th>\n",
       "      <td>(126) Alemania</td>\n",
       "      <td>411,69</td>\n",
       "      <td>959,55</td>\n",
       "      <td>111,98</td>\n",
       "    </tr>\n",
       "    <tr>\n",
       "      <th>896</th>\n",
       "      <td>(132) Suiza</td>\n",
       "      <td>46,09</td>\n",
       "      <td>915,29</td>\n",
       "      <td>110,2</td>\n",
       "    </tr>\n",
       "    <tr>\n",
       "      <th>897</th>\n",
       "      <td>Bélgica, Luxemburgo y Países Bajos</td>\n",
       "      <td>51,62</td>\n",
       "      <td>1.028,02</td>\n",
       "      <td>127,55</td>\n",
       "    </tr>\n",
       "    <tr>\n",
       "      <th>898</th>\n",
       "      <td>Países nórdicos</td>\n",
       "      <td>53,84</td>\n",
       "      <td>998,79</td>\n",
       "      <td>120,6</td>\n",
       "    </tr>\n",
       "    <tr>\n",
       "      <th>899</th>\n",
       "      <td>Resto del mundo</td>\n",
       "      <td>54,48</td>\n",
       "      <td>1.505,94</td>\n",
       "      <td>176,64</td>\n",
       "    </tr>\n",
       "  </tbody>\n",
       "</table>\n",
       "<p>900 rows × 4 columns</p>\n",
       "</div>"
      ],
      "text/plain": [
       "                                Unnamed: 0 Gasto total (millones de euros)  \\\n",
       "0                                  2021M12                             NaN   \n",
       "1                                    TOTAL                          162,66   \n",
       "2                      ESPAÑA (Otras CCAA)                           35,28   \n",
       "3                               EXTRANJERO                          127,38   \n",
       "4                            (110) Francia                            3,84   \n",
       "..                                     ...                             ...   \n",
       "895                         (126) Alemania                          411,69   \n",
       "896                            (132) Suiza                           46,09   \n",
       "897     Bélgica, Luxemburgo y Países Bajos                           51,62   \n",
       "898                        Países nórdicos                           53,84   \n",
       "899                        Resto del mundo                           54,48   \n",
       "\n",
       "    Gasto por persona (euros) Gasto por persona y día (euros)  \n",
       "0                         NaN                             NaN  \n",
       "1                      854,13                          107,97  \n",
       "2                      465,42                           81,44  \n",
       "3                    1.111,16                          118,67  \n",
       "4                      482,04                          106,16  \n",
       "..                        ...                             ...  \n",
       "895                    959,55                          111,98  \n",
       "896                    915,29                           110,2  \n",
       "897                  1.028,02                          127,55  \n",
       "898                    998,79                           120,6  \n",
       "899                  1.505,94                          176,64  \n",
       "\n",
       "[900 rows x 4 columns]"
      ]
     },
     "execution_count": 3,
     "metadata": {},
     "output_type": "execute_result"
    }
   ],
   "source": [
    "gasto_origen_turista"
   ]
  },
  {
   "cell_type": "code",
   "execution_count": 4,
   "id": "4c140a8d",
   "metadata": {},
   "outputs": [],
   "source": [
    "gasto_origen_turista = gasto_origen_turista.rename(columns={'Unnamed: 0':'origen_turista',\n",
    "                                                  'Gasto total (millones de euros)':'Gasto_total',\n",
    "                                                  'Gasto por persona (euros)':'Gasto_persona',\n",
    "                                                  'Gasto por persona y día (euros)':'Gasto_persona_día'})\n",
    "gasto_origen_turista_2015 = gasto_origen_turista_2015.rename(columns={'Unnamed: 0':'origen_turista',\n",
    "                                                  'Gasto total':'Gasto_total',\n",
    "                                                  'Gasto medio por persona':'Gasto_persona',\n",
    "                                                  'Gasto medio diario':'Gasto_persona_día'})"
   ]
  },
  {
   "cell_type": "code",
   "execution_count": 5,
   "id": "87a4c529",
   "metadata": {},
   "outputs": [],
   "source": [
    "gasto_origen_turista.origen_turista = gasto_origen_turista.origen_turista.str.strip()\n",
    "gasto_origen_turista_2015.origen_turista = gasto_origen_turista_2015.origen_turista.str.strip()"
   ]
  },
  {
   "cell_type": "code",
   "execution_count": 6,
   "id": "ae053f96",
   "metadata": {},
   "outputs": [
    {
     "data": {
      "text/html": [
       "<div>\n",
       "<style scoped>\n",
       "    .dataframe tbody tr th:only-of-type {\n",
       "        vertical-align: middle;\n",
       "    }\n",
       "\n",
       "    .dataframe tbody tr th {\n",
       "        vertical-align: top;\n",
       "    }\n",
       "\n",
       "    .dataframe thead th {\n",
       "        text-align: right;\n",
       "    }\n",
       "</style>\n",
       "<table border=\"1\" class=\"dataframe\">\n",
       "  <thead>\n",
       "    <tr style=\"text-align: right;\">\n",
       "      <th></th>\n",
       "      <th>origen_turista</th>\n",
       "      <th>Gasto_total</th>\n",
       "      <th>Gasto_persona</th>\n",
       "      <th>Gasto_persona_día</th>\n",
       "    </tr>\n",
       "  </thead>\n",
       "  <tbody>\n",
       "    <tr>\n",
       "      <th>0</th>\n",
       "      <td>2021M12</td>\n",
       "      <td>NaN</td>\n",
       "      <td>NaN</td>\n",
       "      <td>NaN</td>\n",
       "    </tr>\n",
       "    <tr>\n",
       "      <th>1</th>\n",
       "      <td>TOTAL</td>\n",
       "      <td>162,66</td>\n",
       "      <td>854,13</td>\n",
       "      <td>107,97</td>\n",
       "    </tr>\n",
       "    <tr>\n",
       "      <th>2</th>\n",
       "      <td>ESPAÑA (Otras CCAA)</td>\n",
       "      <td>35,28</td>\n",
       "      <td>465,42</td>\n",
       "      <td>81,44</td>\n",
       "    </tr>\n",
       "    <tr>\n",
       "      <th>3</th>\n",
       "      <td>EXTRANJERO</td>\n",
       "      <td>127,38</td>\n",
       "      <td>1.111,16</td>\n",
       "      <td>118,67</td>\n",
       "    </tr>\n",
       "    <tr>\n",
       "      <th>4</th>\n",
       "      <td>(110) Francia</td>\n",
       "      <td>3,84</td>\n",
       "      <td>482,04</td>\n",
       "      <td>106,16</td>\n",
       "    </tr>\n",
       "    <tr>\n",
       "      <th>...</th>\n",
       "      <td>...</td>\n",
       "      <td>...</td>\n",
       "      <td>...</td>\n",
       "      <td>...</td>\n",
       "    </tr>\n",
       "    <tr>\n",
       "      <th>895</th>\n",
       "      <td>(126) Alemania</td>\n",
       "      <td>411,69</td>\n",
       "      <td>959,55</td>\n",
       "      <td>111,98</td>\n",
       "    </tr>\n",
       "    <tr>\n",
       "      <th>896</th>\n",
       "      <td>(132) Suiza</td>\n",
       "      <td>46,09</td>\n",
       "      <td>915,29</td>\n",
       "      <td>110,2</td>\n",
       "    </tr>\n",
       "    <tr>\n",
       "      <th>897</th>\n",
       "      <td>Bélgica, Luxemburgo y Países Bajos</td>\n",
       "      <td>51,62</td>\n",
       "      <td>1.028,02</td>\n",
       "      <td>127,55</td>\n",
       "    </tr>\n",
       "    <tr>\n",
       "      <th>898</th>\n",
       "      <td>Países nórdicos</td>\n",
       "      <td>53,84</td>\n",
       "      <td>998,79</td>\n",
       "      <td>120,6</td>\n",
       "    </tr>\n",
       "    <tr>\n",
       "      <th>899</th>\n",
       "      <td>Resto del mundo</td>\n",
       "      <td>54,48</td>\n",
       "      <td>1.505,94</td>\n",
       "      <td>176,64</td>\n",
       "    </tr>\n",
       "  </tbody>\n",
       "</table>\n",
       "<p>900 rows × 4 columns</p>\n",
       "</div>"
      ],
      "text/plain": [
       "                         origen_turista Gasto_total Gasto_persona  \\\n",
       "0                               2021M12         NaN           NaN   \n",
       "1                                 TOTAL      162,66        854,13   \n",
       "2                   ESPAÑA (Otras CCAA)       35,28        465,42   \n",
       "3                            EXTRANJERO      127,38      1.111,16   \n",
       "4                         (110) Francia        3,84        482,04   \n",
       "..                                  ...         ...           ...   \n",
       "895                      (126) Alemania      411,69        959,55   \n",
       "896                         (132) Suiza       46,09        915,29   \n",
       "897  Bélgica, Luxemburgo y Países Bajos       51,62      1.028,02   \n",
       "898                     Países nórdicos       53,84        998,79   \n",
       "899                     Resto del mundo       54,48      1.505,94   \n",
       "\n",
       "    Gasto_persona_día  \n",
       "0                 NaN  \n",
       "1              107,97  \n",
       "2               81,44  \n",
       "3              118,67  \n",
       "4              106,16  \n",
       "..                ...  \n",
       "895            111,98  \n",
       "896             110,2  \n",
       "897            127,55  \n",
       "898             120,6  \n",
       "899            176,64  \n",
       "\n",
       "[900 rows x 4 columns]"
      ]
     },
     "execution_count": 6,
     "metadata": {},
     "output_type": "execute_result"
    }
   ],
   "source": [
    "gasto_origen_turista"
   ]
  },
  {
   "cell_type": "code",
   "execution_count": 7,
   "id": "016fd968",
   "metadata": {},
   "outputs": [],
   "source": [
    "def inicio(df):\n",
    "    df.insert(1, \"Mes/año\", \"\")"
   ]
  },
  {
   "cell_type": "code",
   "execution_count": 8,
   "id": "78858847",
   "metadata": {},
   "outputs": [],
   "source": [
    "inicio(gasto_origen_turista)\n",
    "inicio(gasto_origen_turista_2015)"
   ]
  },
  {
   "cell_type": "code",
   "execution_count": 9,
   "id": "caede8b3",
   "metadata": {},
   "outputs": [],
   "source": [
    "def fecha(df):\n",
    "    count = 0\n",
    "    cambioiloc = 0\n",
    "    lista_general = []\n",
    "    for i,row in df.iterrows():\n",
    "        lista_general.append(df.iloc[cambioiloc][\"origen_turista\"])\n",
    "        count += 1    \n",
    "        if count == 12:\n",
    "            cambioiloc = (i+1)\n",
    "            count=0\n",
    "    df[\"Mes/año\"] = lista_general   \n",
    "\n",
    "    for i, row in df.iterrows():\n",
    "        if row['origen_turista'] in lista_general:\n",
    "            df.drop(i, inplace=True)"
   ]
  },
  {
   "cell_type": "code",
   "execution_count": 10,
   "id": "39c67883",
   "metadata": {},
   "outputs": [],
   "source": [
    "fecha(gasto_origen_turista)\n",
    "fecha(gasto_origen_turista_2015)"
   ]
  },
  {
   "cell_type": "code",
   "execution_count": 11,
   "id": "fc9ac536",
   "metadata": {},
   "outputs": [
    {
     "data": {
      "text/html": [
       "<div>\n",
       "<style scoped>\n",
       "    .dataframe tbody tr th:only-of-type {\n",
       "        vertical-align: middle;\n",
       "    }\n",
       "\n",
       "    .dataframe tbody tr th {\n",
       "        vertical-align: top;\n",
       "    }\n",
       "\n",
       "    .dataframe thead th {\n",
       "        text-align: right;\n",
       "    }\n",
       "</style>\n",
       "<table border=\"1\" class=\"dataframe\">\n",
       "  <thead>\n",
       "    <tr style=\"text-align: right;\">\n",
       "      <th></th>\n",
       "      <th>origen_turista</th>\n",
       "      <th>Mes/año</th>\n",
       "      <th>Gasto_total</th>\n",
       "      <th>Gasto_persona</th>\n",
       "      <th>Gasto_persona_día</th>\n",
       "    </tr>\n",
       "  </thead>\n",
       "  <tbody>\n",
       "    <tr>\n",
       "      <th>1</th>\n",
       "      <td>TOTAL</td>\n",
       "      <td>2021M12</td>\n",
       "      <td>162,66</td>\n",
       "      <td>854,13</td>\n",
       "      <td>107,97</td>\n",
       "    </tr>\n",
       "    <tr>\n",
       "      <th>2</th>\n",
       "      <td>ESPAÑA (Otras CCAA)</td>\n",
       "      <td>2021M12</td>\n",
       "      <td>35,28</td>\n",
       "      <td>465,42</td>\n",
       "      <td>81,44</td>\n",
       "    </tr>\n",
       "    <tr>\n",
       "      <th>3</th>\n",
       "      <td>EXTRANJERO</td>\n",
       "      <td>2021M12</td>\n",
       "      <td>127,38</td>\n",
       "      <td>1.111,16</td>\n",
       "      <td>118,67</td>\n",
       "    </tr>\n",
       "    <tr>\n",
       "      <th>4</th>\n",
       "      <td>(110) Francia</td>\n",
       "      <td>2021M12</td>\n",
       "      <td>3,84</td>\n",
       "      <td>482,04</td>\n",
       "      <td>106,16</td>\n",
       "    </tr>\n",
       "    <tr>\n",
       "      <th>5</th>\n",
       "      <td>(115) Italia</td>\n",
       "      <td>2021M12</td>\n",
       "      <td>...</td>\n",
       "      <td>...</td>\n",
       "      <td>...</td>\n",
       "    </tr>\n",
       "    <tr>\n",
       "      <th>...</th>\n",
       "      <td>...</td>\n",
       "      <td>...</td>\n",
       "      <td>...</td>\n",
       "      <td>...</td>\n",
       "      <td>...</td>\n",
       "    </tr>\n",
       "    <tr>\n",
       "      <th>895</th>\n",
       "      <td>(126) Alemania</td>\n",
       "      <td>2015M10</td>\n",
       "      <td>411,69</td>\n",
       "      <td>959,55</td>\n",
       "      <td>111,98</td>\n",
       "    </tr>\n",
       "    <tr>\n",
       "      <th>896</th>\n",
       "      <td>(132) Suiza</td>\n",
       "      <td>2015M10</td>\n",
       "      <td>46,09</td>\n",
       "      <td>915,29</td>\n",
       "      <td>110,2</td>\n",
       "    </tr>\n",
       "    <tr>\n",
       "      <th>897</th>\n",
       "      <td>Bélgica, Luxemburgo y Países Bajos</td>\n",
       "      <td>2015M10</td>\n",
       "      <td>51,62</td>\n",
       "      <td>1.028,02</td>\n",
       "      <td>127,55</td>\n",
       "    </tr>\n",
       "    <tr>\n",
       "      <th>898</th>\n",
       "      <td>Países nórdicos</td>\n",
       "      <td>2015M10</td>\n",
       "      <td>53,84</td>\n",
       "      <td>998,79</td>\n",
       "      <td>120,6</td>\n",
       "    </tr>\n",
       "    <tr>\n",
       "      <th>899</th>\n",
       "      <td>Resto del mundo</td>\n",
       "      <td>2015M10</td>\n",
       "      <td>54,48</td>\n",
       "      <td>1.505,94</td>\n",
       "      <td>176,64</td>\n",
       "    </tr>\n",
       "  </tbody>\n",
       "</table>\n",
       "<p>825 rows × 5 columns</p>\n",
       "</div>"
      ],
      "text/plain": [
       "                         origen_turista  Mes/año Gasto_total Gasto_persona  \\\n",
       "1                                 TOTAL  2021M12      162,66        854,13   \n",
       "2                   ESPAÑA (Otras CCAA)  2021M12       35,28        465,42   \n",
       "3                            EXTRANJERO  2021M12      127,38      1.111,16   \n",
       "4                         (110) Francia  2021M12        3,84        482,04   \n",
       "5                          (115) Italia  2021M12         ...           ...   \n",
       "..                                  ...      ...         ...           ...   \n",
       "895                      (126) Alemania  2015M10      411,69        959,55   \n",
       "896                         (132) Suiza  2015M10       46,09        915,29   \n",
       "897  Bélgica, Luxemburgo y Países Bajos  2015M10       51,62      1.028,02   \n",
       "898                     Países nórdicos  2015M10       53,84        998,79   \n",
       "899                     Resto del mundo  2015M10       54,48      1.505,94   \n",
       "\n",
       "    Gasto_persona_día  \n",
       "1              107,97  \n",
       "2               81,44  \n",
       "3              118,67  \n",
       "4              106,16  \n",
       "5                 ...  \n",
       "..                ...  \n",
       "895            111,98  \n",
       "896             110,2  \n",
       "897            127,55  \n",
       "898             120,6  \n",
       "899            176,64  \n",
       "\n",
       "[825 rows x 5 columns]"
      ]
     },
     "execution_count": 11,
     "metadata": {},
     "output_type": "execute_result"
    }
   ],
   "source": [
    "gasto_origen_turista"
   ]
  },
  {
   "cell_type": "code",
   "execution_count": 12,
   "id": "0e32c327",
   "metadata": {},
   "outputs": [],
   "source": [
    "def month_year(df):\n",
    "    df['year'], df['month'] = df[\"Mes/año\"].str.split('M', 1).str\n",
    "    df.drop(['Mes/año'], axis = 1, inplace= True)"
   ]
  },
  {
   "cell_type": "code",
   "execution_count": 13,
   "id": "b90fe643",
   "metadata": {},
   "outputs": [],
   "source": [
    "month_year(gasto_origen_turista)\n",
    "month_year(gasto_origen_turista_2015)  "
   ]
  },
  {
   "cell_type": "code",
   "execution_count": 14,
   "id": "b82b494d",
   "metadata": {},
   "outputs": [
    {
     "data": {
      "text/html": [
       "<div>\n",
       "<style scoped>\n",
       "    .dataframe tbody tr th:only-of-type {\n",
       "        vertical-align: middle;\n",
       "    }\n",
       "\n",
       "    .dataframe tbody tr th {\n",
       "        vertical-align: top;\n",
       "    }\n",
       "\n",
       "    .dataframe thead th {\n",
       "        text-align: right;\n",
       "    }\n",
       "</style>\n",
       "<table border=\"1\" class=\"dataframe\">\n",
       "  <thead>\n",
       "    <tr style=\"text-align: right;\">\n",
       "      <th></th>\n",
       "      <th>origen_turista</th>\n",
       "      <th>Gasto_total</th>\n",
       "      <th>Gasto_persona_día</th>\n",
       "      <th>Gasto_persona</th>\n",
       "      <th>year</th>\n",
       "      <th>month</th>\n",
       "    </tr>\n",
       "  </thead>\n",
       "  <tbody>\n",
       "    <tr>\n",
       "      <th>1</th>\n",
       "      <td>1. ESPAÑA</td>\n",
       "      <td>191.802</td>\n",
       "      <td>91,25</td>\n",
       "      <td>751,01</td>\n",
       "      <td>2015</td>\n",
       "      <td>09</td>\n",
       "    </tr>\n",
       "    <tr>\n",
       "      <th>2</th>\n",
       "      <td>2. EXTRANJERO</td>\n",
       "      <td>1.611.520</td>\n",
       "      <td>116,56</td>\n",
       "      <td>952,54</td>\n",
       "      <td>2015</td>\n",
       "      <td>09</td>\n",
       "    </tr>\n",
       "    <tr>\n",
       "      <th>3</th>\n",
       "      <td>(110) Francia</td>\n",
       "      <td>50.522</td>\n",
       "      <td>90,01</td>\n",
       "      <td>825,99</td>\n",
       "      <td>2015</td>\n",
       "      <td>09</td>\n",
       "    </tr>\n",
       "    <tr>\n",
       "      <th>4</th>\n",
       "      <td>(115) Italia</td>\n",
       "      <td>93.182</td>\n",
       "      <td>135,44</td>\n",
       "      <td>1.084,72</td>\n",
       "      <td>2015</td>\n",
       "      <td>09</td>\n",
       "    </tr>\n",
       "    <tr>\n",
       "      <th>5</th>\n",
       "      <td>(125) Reino Unido</td>\n",
       "      <td>490.607</td>\n",
       "      <td>111,02</td>\n",
       "      <td>886,25</td>\n",
       "      <td>2015</td>\n",
       "      <td>09</td>\n",
       "    </tr>\n",
       "    <tr>\n",
       "      <th>6</th>\n",
       "      <td>(126) Alemania</td>\n",
       "      <td>531.910</td>\n",
       "      <td>109,63</td>\n",
       "      <td>884,37</td>\n",
       "      <td>2015</td>\n",
       "      <td>09</td>\n",
       "    </tr>\n",
       "  </tbody>\n",
       "</table>\n",
       "</div>"
      ],
      "text/plain": [
       "      origen_turista Gasto_total Gasto_persona_día Gasto_persona  year month\n",
       "1          1. ESPAÑA     191.802             91,25        751,01  2015    09\n",
       "2      2. EXTRANJERO   1.611.520            116,56        952,54  2015    09\n",
       "3      (110) Francia      50.522             90,01        825,99  2015    09\n",
       "4       (115) Italia      93.182            135,44      1.084,72  2015    09\n",
       "5  (125) Reino Unido     490.607            111,02        886,25  2015    09\n",
       "6     (126) Alemania     531.910            109,63        884,37  2015    09"
      ]
     },
     "execution_count": 14,
     "metadata": {},
     "output_type": "execute_result"
    }
   ],
   "source": [
    "gasto_origen_turista_2015.head(6)"
   ]
  },
  {
   "cell_type": "code",
   "execution_count": 15,
   "id": "f45fc56b",
   "metadata": {},
   "outputs": [],
   "source": [
    "gasto_origen_turista['origen_turista'] = gasto_origen_turista['origen_turista'].str.replace(\"\\(\\d+\\)\", \"\").str.replace(\"\\d+\", \"\")\n",
    "gasto_origen_turista_2015['origen_turista'] = gasto_origen_turista_2015['origen_turista'].str.replace(\"\\(\\d+\\)\", \"\").str.replace(\"\\d+\", \"\")"
   ]
  },
  {
   "cell_type": "code",
   "execution_count": 16,
   "id": "a6ded63c",
   "metadata": {},
   "outputs": [],
   "source": [
    "gasto_origen_turista['origen_turista'] = gasto_origen_turista['origen_turista'].str.replace(r\"\\(.*\\)\",\"\").str.rstrip()\n",
    "gasto_origen_turista['origen_turista'] = gasto_origen_turista['origen_turista'].str.replace(r\"\\(.*\\)\",\"\").str.rstrip()"
   ]
  },
  {
   "cell_type": "code",
   "execution_count": 17,
   "id": "d2e115cf",
   "metadata": {},
   "outputs": [
    {
     "data": {
      "text/html": [
       "<div>\n",
       "<style scoped>\n",
       "    .dataframe tbody tr th:only-of-type {\n",
       "        vertical-align: middle;\n",
       "    }\n",
       "\n",
       "    .dataframe tbody tr th {\n",
       "        vertical-align: top;\n",
       "    }\n",
       "\n",
       "    .dataframe thead th {\n",
       "        text-align: right;\n",
       "    }\n",
       "</style>\n",
       "<table border=\"1\" class=\"dataframe\">\n",
       "  <thead>\n",
       "    <tr style=\"text-align: right;\">\n",
       "      <th></th>\n",
       "      <th>origen_turista</th>\n",
       "      <th>Gasto_total</th>\n",
       "      <th>Gasto_persona_día</th>\n",
       "      <th>Gasto_persona</th>\n",
       "      <th>year</th>\n",
       "      <th>month</th>\n",
       "    </tr>\n",
       "  </thead>\n",
       "  <tbody>\n",
       "    <tr>\n",
       "      <th>1</th>\n",
       "      <td>. ESPAÑA</td>\n",
       "      <td>191.802</td>\n",
       "      <td>91,25</td>\n",
       "      <td>751,01</td>\n",
       "      <td>2015</td>\n",
       "      <td>09</td>\n",
       "    </tr>\n",
       "    <tr>\n",
       "      <th>2</th>\n",
       "      <td>. EXTRANJERO</td>\n",
       "      <td>1.611.520</td>\n",
       "      <td>116,56</td>\n",
       "      <td>952,54</td>\n",
       "      <td>2015</td>\n",
       "      <td>09</td>\n",
       "    </tr>\n",
       "    <tr>\n",
       "      <th>3</th>\n",
       "      <td>Francia</td>\n",
       "      <td>50.522</td>\n",
       "      <td>90,01</td>\n",
       "      <td>825,99</td>\n",
       "      <td>2015</td>\n",
       "      <td>09</td>\n",
       "    </tr>\n",
       "    <tr>\n",
       "      <th>4</th>\n",
       "      <td>Italia</td>\n",
       "      <td>93.182</td>\n",
       "      <td>135,44</td>\n",
       "      <td>1.084,72</td>\n",
       "      <td>2015</td>\n",
       "      <td>09</td>\n",
       "    </tr>\n",
       "    <tr>\n",
       "      <th>5</th>\n",
       "      <td>Reino Unido</td>\n",
       "      <td>490.607</td>\n",
       "      <td>111,02</td>\n",
       "      <td>886,25</td>\n",
       "      <td>2015</td>\n",
       "      <td>09</td>\n",
       "    </tr>\n",
       "    <tr>\n",
       "      <th>6</th>\n",
       "      <td>Alemania</td>\n",
       "      <td>531.910</td>\n",
       "      <td>109,63</td>\n",
       "      <td>884,37</td>\n",
       "      <td>2015</td>\n",
       "      <td>09</td>\n",
       "    </tr>\n",
       "  </tbody>\n",
       "</table>\n",
       "</div>"
      ],
      "text/plain": [
       "  origen_turista Gasto_total Gasto_persona_día Gasto_persona  year month\n",
       "1       . ESPAÑA     191.802             91,25        751,01  2015    09\n",
       "2   . EXTRANJERO   1.611.520            116,56        952,54  2015    09\n",
       "3        Francia      50.522             90,01        825,99  2015    09\n",
       "4         Italia      93.182            135,44      1.084,72  2015    09\n",
       "5    Reino Unido     490.607            111,02        886,25  2015    09\n",
       "6       Alemania     531.910            109,63        884,37  2015    09"
      ]
     },
     "execution_count": 17,
     "metadata": {},
     "output_type": "execute_result"
    }
   ],
   "source": [
    "gasto_origen_turista_2015.head(6)"
   ]
  },
  {
   "cell_type": "code",
   "execution_count": null,
   "id": "97d6faf9",
   "metadata": {},
   "outputs": [],
   "source": [
    "gasto_origen_turista.reset_index(inplace=True)\n",
    "gasto_origen_turista.drop(columns = 'index', inplace = True)"
   ]
  },
  {
   "cell_type": "code",
   "execution_count": null,
   "id": "0160f877",
   "metadata": {},
   "outputs": [],
   "source": [
    "gasto_origen_turista_2015.reset_index(inplace=True)\n",
    "gasto_origen_turista_2015.drop(columns = 'index', inplace = True)"
   ]
  },
  {
   "cell_type": "code",
   "execution_count": null,
   "id": "0779eb88",
   "metadata": {},
   "outputs": [],
   "source": [
    "gasto_origen_turista.head(6)"
   ]
  },
  {
   "cell_type": "code",
   "execution_count": null,
   "id": "eaa93c58",
   "metadata": {},
   "outputs": [],
   "source": [
    "def eliminar_columna(df):\n",
    "    df.drop(['Gasto_total'], axis=1, inplace=True)"
   ]
  },
  {
   "cell_type": "code",
   "execution_count": null,
   "id": "0049dece",
   "metadata": {},
   "outputs": [],
   "source": [
    "eliminar_columna(gasto_origen_turista)\n",
    "eliminar_columna(gasto_origen_turista_2015)"
   ]
  },
  {
   "cell_type": "code",
   "execution_count": null,
   "id": "8a3c65a3",
   "metadata": {},
   "outputs": [],
   "source": [
    "gasto_origen_turista_2015.origen_turista = gasto_origen_turista_2015['origen_turista'].str.replace(\".\", \"\").str.strip()"
   ]
  },
  {
   "cell_type": "code",
   "execution_count": null,
   "id": "de28b20c",
   "metadata": {
    "scrolled": true
   },
   "outputs": [],
   "source": [
    "gasto_origen_turista['origen_turista'] = gasto_origen_turista['origen_turista'].str.replace(\"\\(C+\\)\", \"\")"
   ]
  },
  {
   "cell_type": "code",
   "execution_count": null,
   "id": "618d6d7d",
   "metadata": {},
   "outputs": [],
   "source": [
    "gasto_origen_turista.head(6)"
   ]
  },
  {
   "cell_type": "code",
   "execution_count": null,
   "id": "c5438d9a",
   "metadata": {},
   "outputs": [],
   "source": [
    "gasto_origen_turista.reset_index(inplace=True)\n",
    "gasto_origen_turista.drop(columns = 'index', inplace = True)"
   ]
  },
  {
   "cell_type": "code",
   "execution_count": null,
   "id": "6556987e",
   "metadata": {},
   "outputs": [],
   "source": [
    "gasto_origen_turista.origen_turista = gasto_origen_turista['origen_turista'].str.strip()"
   ]
  },
  {
   "cell_type": "code",
   "execution_count": null,
   "id": "d255b02e",
   "metadata": {},
   "outputs": [],
   "source": [
    "gasto_origen_turista_2015.origen_turista = gasto_origen_turista_2015['origen_turista'].str.strip()"
   ]
  },
  {
   "cell_type": "code",
   "execution_count": null,
   "id": "1ee276bf",
   "metadata": {},
   "outputs": [],
   "source": [
    "#Unifocando orígenes de turistas. Datos previos a 2015 tienen unos países y datos posteriores a 2015 tienen otro tipo de agrupación. Se unifican"
   ]
  },
  {
   "cell_type": "code",
   "execution_count": null,
   "id": "57b1c1b0",
   "metadata": {},
   "outputs": [],
   "source": [
    "#asto_origen_turista_2015.origen_turista.unique() "
   ]
  },
  {
   "cell_type": "code",
   "execution_count": null,
   "id": "eec20df0",
   "metadata": {},
   "outputs": [],
   "source": [
    "for i, row in gasto_origen_turista.iterrows():\n",
    "    if row['origen_turista'] == 'TOTAL':\n",
    "        gasto_origen_turista.drop(i, inplace=True)\n",
    "    if row['origen_turista'] == 'EXTRANJERO':\n",
    "        gasto_origen_turista.drop(i, inplace=True)\n",
    "    if row['origen_turista'] == 'Resto del mundo':\n",
    "        gasto_origen_turista.drop(i, inplace=True)\n",
    "    if row['origen_turista'] == 'Suiza':\n",
    "        gasto_origen_turista.drop(i, inplace=True)\n",
    "    if row['origen_turista'] == 'Resto de Europa':\n",
    "        gasto_origen_turista.drop(i, inplace=True)"
   ]
  },
  {
   "cell_type": "code",
   "execution_count": null,
   "id": "4b7e3a18",
   "metadata": {},
   "outputs": [],
   "source": [
    "for i, row in gasto_origen_turista_2015.iterrows():\n",
    "    if row['origen_turista'] == 'TOTAL':\n",
    "        gasto_origen_turista_2015.drop(i, inplace=True)\n",
    "    if row['origen_turista'] == 'EXTRANJERO':\n",
    "        gasto_origen_turista_2015.drop(i, inplace=True)\n",
    "    if row['origen_turista'] == 'Resto del mundo':\n",
    "        gasto_origen_turista_2015.drop(i, inplace=True)\n",
    "    if row['origen_turista'] == 'Suiza':\n",
    "        gasto_origen_turista_2015.drop(i, inplace=True)\n",
    "    if row['origen_turista'] == 'Resto de Europa':\n",
    "        gasto_origen_turista_2015.drop(i, inplace=True)"
   ]
  },
  {
   "cell_type": "code",
   "execution_count": null,
   "id": "ecedd21d",
   "metadata": {},
   "outputs": [],
   "source": [
    "gasto_origen_turista.origen_turista.unique()"
   ]
  },
  {
   "cell_type": "code",
   "execution_count": null,
   "id": "b03704b4",
   "metadata": {},
   "outputs": [],
   "source": [
    "gasto_origen_turista_2015.origen_turista.unique()"
   ]
  },
  {
   "cell_type": "code",
   "execution_count": null,
   "id": "16c06af6",
   "metadata": {},
   "outputs": [],
   "source": [
    "gasto_origen_turista_2015 = gasto_origen_turista_2015[['origen_turista','Gasto_persona','Gasto_persona_día','year','month']]"
   ]
  },
  {
   "cell_type": "code",
   "execution_count": null,
   "id": "5effd7f4",
   "metadata": {},
   "outputs": [],
   "source": [
    "gasto_origen_turista_OK = pd.concat([gasto_origen_turista, gasto_origen_turista_2015])"
   ]
  },
  {
   "cell_type": "code",
   "execution_count": null,
   "id": "a79ecc9f",
   "metadata": {
    "scrolled": false
   },
   "outputs": [],
   "source": [
    "gasto_origen_turista_OK"
   ]
  },
  {
   "cell_type": "code",
   "execution_count": null,
   "id": "9acb3f23",
   "metadata": {},
   "outputs": [],
   "source": [
    "gasto_origen_turista_OK.origen_turista.unique()"
   ]
  },
  {
   "cell_type": "code",
   "execution_count": null,
   "id": "e2639209",
   "metadata": {},
   "outputs": [],
   "source": [
    "gasto_origen_turista_OK.origen_turista = gasto_origen_turista_OK['origen_turista'].str.strip()"
   ]
  },
  {
   "cell_type": "code",
   "execution_count": null,
   "id": "e218b0c5",
   "metadata": {},
   "outputs": [],
   "source": [
    "gasto_origen_turista_OK.origen_turista.unique()"
   ]
  },
  {
   "cell_type": "code",
   "execution_count": null,
   "id": "29d283b6",
   "metadata": {
    "scrolled": false
   },
   "outputs": [],
   "source": [
    "gasto_origen_turista_OK.dtypes"
   ]
  },
  {
   "cell_type": "code",
   "execution_count": null,
   "id": "05455aff",
   "metadata": {},
   "outputs": [],
   "source": [
    "def cambiar (strnum):\n",
    "\n",
    "    strnum = strnum.replace(\".\",\"\")\n",
    "    return strnum.replace(\",\",\".\")"
   ]
  },
  {
   "cell_type": "code",
   "execution_count": null,
   "id": "582cc383",
   "metadata": {},
   "outputs": [],
   "source": [
    "gasto_origen_turista_OK['Gasto_persona'] = gasto_origen_turista_OK['Gasto_persona'].apply(cambiar)\n",
    "gasto_origen_turista_OK['Gasto_persona'] = pd.to_numeric(gasto_origen_turista_OK['Gasto_persona'], errors = 'coerce')"
   ]
  },
  {
   "cell_type": "code",
   "execution_count": null,
   "id": "5c48237c",
   "metadata": {},
   "outputs": [],
   "source": [
    "gasto_origen_turista_OK['Gasto_persona_día'] = gasto_origen_turista_OK['Gasto_persona_día'].apply(cambiar)\n",
    "gasto_origen_turista_OK['Gasto_persona_día'] = pd.to_numeric(gasto_origen_turista_OK['Gasto_persona_día'], errors = 'coerce')"
   ]
  },
  {
   "cell_type": "code",
   "execution_count": null,
   "id": "391842a3",
   "metadata": {},
   "outputs": [],
   "source": [
    "gasto_origen_turista_OK"
   ]
  },
  {
   "cell_type": "code",
   "execution_count": null,
   "id": "49a8c8e5",
   "metadata": {},
   "outputs": [],
   "source": [
    "gasto_origen_turista_OK['year'] = gasto_origen_turista_OK['year'].astype(str).astype(int)"
   ]
  },
  {
   "cell_type": "code",
   "execution_count": null,
   "id": "69f65cb0",
   "metadata": {},
   "outputs": [],
   "source": [
    "gasto_origen_turista_OK['month'] = gasto_origen_turista_OK['month'].astype(str).astype(int)"
   ]
  },
  {
   "cell_type": "code",
   "execution_count": null,
   "id": "59fd5196",
   "metadata": {},
   "outputs": [],
   "source": [
    "gasto_origen_turista_OK.dtypes"
   ]
  },
  {
   "cell_type": "code",
   "execution_count": null,
   "id": "8be88ed3",
   "metadata": {},
   "outputs": [],
   "source": [
    "gasto_origen_turista_OK.isna().sum()"
   ]
  },
  {
   "cell_type": "code",
   "execution_count": null,
   "id": "20415d6d",
   "metadata": {},
   "outputs": [],
   "source": [
    "#gasto_origen_turista_OK.to_csv(r'gasto_por_origen_turista.csv', index = False, header=True)"
   ]
  },
  {
   "cell_type": "code",
   "execution_count": null,
   "id": "d340fc4b",
   "metadata": {},
   "outputs": [],
   "source": []
  }
 ],
 "metadata": {
  "kernelspec": {
   "display_name": "ironhack",
   "language": "python",
   "name": "ironhack"
  },
  "language_info": {
   "codemirror_mode": {
    "name": "ipython",
    "version": 3
   },
   "file_extension": ".py",
   "mimetype": "text/x-python",
   "name": "python",
   "nbconvert_exporter": "python",
   "pygments_lexer": "ipython3",
   "version": "3.8.2"
  }
 },
 "nbformat": 4,
 "nbformat_minor": 5
}
