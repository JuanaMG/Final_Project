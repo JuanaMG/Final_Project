{
 "cells": [
  {
   "cell_type": "code",
   "execution_count": 1,
   "id": "3599d2c2",
   "metadata": {},
   "outputs": [],
   "source": [
    "import pandas as pd\n",
    "\n",
    "import warnings\n",
    "warnings.simplefilter('ignore')"
   ]
  },
  {
   "cell_type": "markdown",
   "id": "3184d994",
   "metadata": {},
   "source": [
    "Los datos están obtenidos en dos csv"
   ]
  },
  {
   "cell_type": "code",
   "execution_count": 2,
   "id": "dab83c60",
   "metadata": {},
   "outputs": [],
   "source": [
    "gasto_isla = pd.read_csv('../Limpieza_Datasets/data/Gasto_isla.csv', sep = ';')\n",
    "gasto_isla_2015 = pd.read_csv('../Limpieza_Datasets/data/Gasto_total_isla_2015.csv', sep=';')"
   ]
  },
  {
   "cell_type": "code",
   "execution_count": 3,
   "id": "98fff7a4",
   "metadata": {},
   "outputs": [
    {
     "data": {
      "text/html": [
       "<div>\n",
       "<style scoped>\n",
       "    .dataframe tbody tr th:only-of-type {\n",
       "        vertical-align: middle;\n",
       "    }\n",
       "\n",
       "    .dataframe tbody tr th {\n",
       "        vertical-align: top;\n",
       "    }\n",
       "\n",
       "    .dataframe thead th {\n",
       "        text-align: right;\n",
       "    }\n",
       "</style>\n",
       "<table border=\"1\" class=\"dataframe\">\n",
       "  <thead>\n",
       "    <tr style=\"text-align: right;\">\n",
       "      <th></th>\n",
       "      <th>Unnamed: 0</th>\n",
       "      <th>Gasto total (millones de euros)</th>\n",
       "      <th>Gasto por persona (euros)</th>\n",
       "      <th>Gasto por persona y día (euros)</th>\n",
       "    </tr>\n",
       "  </thead>\n",
       "  <tbody>\n",
       "    <tr>\n",
       "      <th>0</th>\n",
       "      <td>2021M12</td>\n",
       "      <td>NaN</td>\n",
       "      <td>NaN</td>\n",
       "      <td>NaN</td>\n",
       "    </tr>\n",
       "    <tr>\n",
       "      <th>1</th>\n",
       "      <td>Mallorca</td>\n",
       "      <td>139,15</td>\n",
       "      <td>886,78</td>\n",
       "      <td>111,45</td>\n",
       "    </tr>\n",
       "    <tr>\n",
       "      <th>2</th>\n",
       "      <td>Menorca</td>\n",
       "      <td>4,62</td>\n",
       "      <td>569,33</td>\n",
       "      <td>97,75</td>\n",
       "    </tr>\n",
       "    <tr>\n",
       "      <th>3</th>\n",
       "      <td>Eivissa-Formentera</td>\n",
       "      <td>18,89</td>\n",
       "      <td>743,48</td>\n",
       "      <td>89,62</td>\n",
       "    </tr>\n",
       "    <tr>\n",
       "      <th>4</th>\n",
       "      <td>2021M11</td>\n",
       "      <td>NaN</td>\n",
       "      <td>NaN</td>\n",
       "      <td>NaN</td>\n",
       "    </tr>\n",
       "    <tr>\n",
       "      <th>...</th>\n",
       "      <td>...</td>\n",
       "      <td>...</td>\n",
       "      <td>...</td>\n",
       "      <td>...</td>\n",
       "    </tr>\n",
       "    <tr>\n",
       "      <th>295</th>\n",
       "      <td>Eivissa-Formentera</td>\n",
       "      <td>15,55</td>\n",
       "      <td>596,44</td>\n",
       "      <td>87,05</td>\n",
       "    </tr>\n",
       "    <tr>\n",
       "      <th>296</th>\n",
       "      <td>2015M10</td>\n",
       "      <td>NaN</td>\n",
       "      <td>NaN</td>\n",
       "      <td>NaN</td>\n",
       "    </tr>\n",
       "    <tr>\n",
       "      <th>297</th>\n",
       "      <td>Mallorca</td>\n",
       "      <td>792,77</td>\n",
       "      <td>915,06</td>\n",
       "      <td>114,4</td>\n",
       "    </tr>\n",
       "    <tr>\n",
       "      <th>298</th>\n",
       "      <td>Menorca</td>\n",
       "      <td>50,27</td>\n",
       "      <td>806,03</td>\n",
       "      <td>95,52</td>\n",
       "    </tr>\n",
       "    <tr>\n",
       "      <th>299</th>\n",
       "      <td>Eivissa-Formentera</td>\n",
       "      <td>147</td>\n",
       "      <td>838,52</td>\n",
       "      <td>109,8</td>\n",
       "    </tr>\n",
       "  </tbody>\n",
       "</table>\n",
       "<p>300 rows × 4 columns</p>\n",
       "</div>"
      ],
      "text/plain": [
       "                Unnamed: 0 Gasto total (millones de euros)  \\\n",
       "0                  2021M12                             NaN   \n",
       "1                 Mallorca                          139,15   \n",
       "2                  Menorca                            4,62   \n",
       "3       Eivissa-Formentera                           18,89   \n",
       "4                  2021M11                             NaN   \n",
       "..                     ...                             ...   \n",
       "295     Eivissa-Formentera                           15,55   \n",
       "296                2015M10                             NaN   \n",
       "297               Mallorca                          792,77   \n",
       "298                Menorca                           50,27   \n",
       "299     Eivissa-Formentera                             147   \n",
       "\n",
       "    Gasto por persona (euros) Gasto por persona y día (euros)  \n",
       "0                         NaN                             NaN  \n",
       "1                      886,78                          111,45  \n",
       "2                      569,33                           97,75  \n",
       "3                      743,48                           89,62  \n",
       "4                         NaN                             NaN  \n",
       "..                        ...                             ...  \n",
       "295                    596,44                           87,05  \n",
       "296                       NaN                             NaN  \n",
       "297                    915,06                           114,4  \n",
       "298                    806,03                           95,52  \n",
       "299                    838,52                           109,8  \n",
       "\n",
       "[300 rows x 4 columns]"
      ]
     },
     "execution_count": 3,
     "metadata": {},
     "output_type": "execute_result"
    }
   ],
   "source": [
    "gasto_isla"
   ]
  },
  {
   "cell_type": "markdown",
   "id": "8dce0917",
   "metadata": {},
   "source": [
    "Se cambia el nombre de columnas para unificar los dos dataframe posteriormente"
   ]
  },
  {
   "cell_type": "code",
   "execution_count": 4,
   "id": "d1b6ce48",
   "metadata": {},
   "outputs": [],
   "source": [
    "gasto_isla = gasto_isla.rename(columns={'Unnamed: 0':'Isla',\n",
    "                                       'Gasto total (millones de euros)':'Gasto_total',\n",
    "                                       'Gasto por persona (euros)':'Gasto_persona',\n",
    "                                       'Gasto por persona y día (euros)':'Gasto_persona_día'})"
   ]
  },
  {
   "cell_type": "code",
   "execution_count": 5,
   "id": "561968f9",
   "metadata": {},
   "outputs": [],
   "source": [
    "gasto_isla_2015 = gasto_isla_2015.rename(columns={'Unnamed: 0':'Isla',\n",
    "                                                  'Gasto total':'Gasto_total',\n",
    "                                                  'Gasto medio por persona':'Gasto_persona',\n",
    "                                                  'Gasto medio diario':'Gasto_persona_día'})"
   ]
  },
  {
   "cell_type": "code",
   "execution_count": 6,
   "id": "038ef5da",
   "metadata": {
    "scrolled": true
   },
   "outputs": [
    {
     "data": {
      "text/html": [
       "<div>\n",
       "<style scoped>\n",
       "    .dataframe tbody tr th:only-of-type {\n",
       "        vertical-align: middle;\n",
       "    }\n",
       "\n",
       "    .dataframe tbody tr th {\n",
       "        vertical-align: top;\n",
       "    }\n",
       "\n",
       "    .dataframe thead th {\n",
       "        text-align: right;\n",
       "    }\n",
       "</style>\n",
       "<table border=\"1\" class=\"dataframe\">\n",
       "  <thead>\n",
       "    <tr style=\"text-align: right;\">\n",
       "      <th></th>\n",
       "      <th>Isla</th>\n",
       "      <th>Gasto_total</th>\n",
       "      <th>Gasto_persona</th>\n",
       "      <th>Gasto_persona_día</th>\n",
       "    </tr>\n",
       "  </thead>\n",
       "  <tbody>\n",
       "    <tr>\n",
       "      <th>0</th>\n",
       "      <td>2021M12</td>\n",
       "      <td>NaN</td>\n",
       "      <td>NaN</td>\n",
       "      <td>NaN</td>\n",
       "    </tr>\n",
       "    <tr>\n",
       "      <th>1</th>\n",
       "      <td>Mallorca</td>\n",
       "      <td>139,15</td>\n",
       "      <td>886,78</td>\n",
       "      <td>111,45</td>\n",
       "    </tr>\n",
       "    <tr>\n",
       "      <th>2</th>\n",
       "      <td>Menorca</td>\n",
       "      <td>4,62</td>\n",
       "      <td>569,33</td>\n",
       "      <td>97,75</td>\n",
       "    </tr>\n",
       "    <tr>\n",
       "      <th>3</th>\n",
       "      <td>Eivissa-Formentera</td>\n",
       "      <td>18,89</td>\n",
       "      <td>743,48</td>\n",
       "      <td>89,62</td>\n",
       "    </tr>\n",
       "    <tr>\n",
       "      <th>4</th>\n",
       "      <td>2021M11</td>\n",
       "      <td>NaN</td>\n",
       "      <td>NaN</td>\n",
       "      <td>NaN</td>\n",
       "    </tr>\n",
       "  </tbody>\n",
       "</table>\n",
       "</div>"
      ],
      "text/plain": [
       "                    Isla Gasto_total Gasto_persona Gasto_persona_día\n",
       "0                2021M12         NaN           NaN               NaN\n",
       "1               Mallorca      139,15        886,78            111,45\n",
       "2                Menorca        4,62        569,33             97,75\n",
       "3     Eivissa-Formentera       18,89        743,48             89,62\n",
       "4                2021M11         NaN           NaN               NaN"
      ]
     },
     "execution_count": 6,
     "metadata": {},
     "output_type": "execute_result"
    }
   ],
   "source": [
    "gasto_isla.head(5)"
   ]
  },
  {
   "cell_type": "markdown",
   "id": "5e4cdb36",
   "metadata": {},
   "source": [
    "Se elimina la columna 'Gasto_total' ya que la información está dada en diferentes medidas en cada df"
   ]
  },
  {
   "cell_type": "code",
   "execution_count": 7,
   "id": "ba1600be",
   "metadata": {},
   "outputs": [],
   "source": [
    "def eliminar_columna(df):\n",
    "    df.drop(['Gasto_total'], axis=1, inplace=True)"
   ]
  },
  {
   "cell_type": "code",
   "execution_count": 8,
   "id": "901440f4",
   "metadata": {},
   "outputs": [],
   "source": [
    "eliminar_columna(gasto_isla)\n",
    "eliminar_columna(gasto_isla_2015)"
   ]
  },
  {
   "cell_type": "code",
   "execution_count": null,
   "id": "550d96f1",
   "metadata": {},
   "outputs": [],
   "source": [
    "gasto_isla.head(10)"
   ]
  },
  {
   "cell_type": "markdown",
   "id": "3b8ae812",
   "metadata": {},
   "source": [
    "* Función 'inicio': Elimina espacios agregados al inicio de cada 'isla' y se añade una columna adicional para extraer el año y el mes.\n",
    "\n",
    "* Función 'fecha': Iteración por toda la columna 'Isla' para que cada 4 rows agregue lo que encuentre en la columna 'mes/año'. Se elimina el patrón '2000M01' de la columna 'Isla'."
   ]
  },
  {
   "cell_type": "code",
   "execution_count": 10,
   "id": "136df603",
   "metadata": {},
   "outputs": [],
   "source": [
    "def inicio(df):\n",
    "    df.insert(1, \"Mes/año\", \"\")\n",
    "    \n",
    "def fecha(df):\n",
    "    count = 0\n",
    "    cambioiloc = 0\n",
    "    lista_general = []\n",
    "    for i,row in df.iterrows():\n",
    "        lista_general.append(df.iloc[cambioiloc][\"Isla\"])\n",
    "        count += 1    \n",
    "        if count == 4:\n",
    "            cambioiloc = (i+1)\n",
    "            count=0\n",
    "    df[\"Mes/año\"] = lista_general   \n",
    "\n",
    "    for i, row in df.iterrows():\n",
    "        if row['Isla'] in lista_general:\n",
    "            df.drop(i, inplace=True)"
   ]
  },
  {
   "cell_type": "code",
   "execution_count": 11,
   "id": "8956f849",
   "metadata": {},
   "outputs": [],
   "source": [
    "inicio(gasto_isla)\n",
    "inicio(gasto_isla_2015)"
   ]
  },
  {
   "cell_type": "code",
   "execution_count": 12,
   "id": "ded81a93",
   "metadata": {},
   "outputs": [],
   "source": [
    "fecha(gasto_isla)\n",
    "fecha(gasto_isla_2015)"
   ]
  },
  {
   "cell_type": "code",
   "execution_count": 13,
   "id": "45cb6246",
   "metadata": {},
   "outputs": [
    {
     "data": {
      "text/html": [
       "<div>\n",
       "<style scoped>\n",
       "    .dataframe tbody tr th:only-of-type {\n",
       "        vertical-align: middle;\n",
       "    }\n",
       "\n",
       "    .dataframe tbody tr th {\n",
       "        vertical-align: top;\n",
       "    }\n",
       "\n",
       "    .dataframe thead th {\n",
       "        text-align: right;\n",
       "    }\n",
       "</style>\n",
       "<table border=\"1\" class=\"dataframe\">\n",
       "  <thead>\n",
       "    <tr style=\"text-align: right;\">\n",
       "      <th></th>\n",
       "      <th>Isla</th>\n",
       "      <th>Mes/año</th>\n",
       "      <th>Gasto_persona</th>\n",
       "      <th>Gasto_persona_día</th>\n",
       "    </tr>\n",
       "  </thead>\n",
       "  <tbody>\n",
       "    <tr>\n",
       "      <th>1</th>\n",
       "      <td>Mallorca</td>\n",
       "      <td>2021M12</td>\n",
       "      <td>886,78</td>\n",
       "      <td>111,45</td>\n",
       "    </tr>\n",
       "    <tr>\n",
       "      <th>2</th>\n",
       "      <td>Menorca</td>\n",
       "      <td>2021M12</td>\n",
       "      <td>569,33</td>\n",
       "      <td>97,75</td>\n",
       "    </tr>\n",
       "    <tr>\n",
       "      <th>3</th>\n",
       "      <td>Eivissa-Formentera</td>\n",
       "      <td>2021M12</td>\n",
       "      <td>743,48</td>\n",
       "      <td>89,62</td>\n",
       "    </tr>\n",
       "    <tr>\n",
       "      <th>5</th>\n",
       "      <td>Mallorca</td>\n",
       "      <td>2021M11</td>\n",
       "      <td>886,79</td>\n",
       "      <td>126,19</td>\n",
       "    </tr>\n",
       "    <tr>\n",
       "      <th>6</th>\n",
       "      <td>Menorca</td>\n",
       "      <td>2021M11</td>\n",
       "      <td>589,2</td>\n",
       "      <td>96,37</td>\n",
       "    </tr>\n",
       "  </tbody>\n",
       "</table>\n",
       "</div>"
      ],
      "text/plain": [
       "                    Isla  Mes/año Gasto_persona Gasto_persona_día\n",
       "1               Mallorca  2021M12        886,78            111,45\n",
       "2                Menorca  2021M12        569,33             97,75\n",
       "3     Eivissa-Formentera  2021M12        743,48             89,62\n",
       "5               Mallorca  2021M11        886,79            126,19\n",
       "6                Menorca  2021M11         589,2             96,37"
      ]
     },
     "execution_count": 13,
     "metadata": {},
     "output_type": "execute_result"
    }
   ],
   "source": [
    "gasto_isla.head()"
   ]
  },
  {
   "cell_type": "markdown",
   "id": "ec27fd33",
   "metadata": {},
   "source": [
    "Se crea una columna 'year' y otra 'month' para separar lo que contiene la columna que creamos 'Mes/año'"
   ]
  },
  {
   "cell_type": "code",
   "execution_count": 14,
   "id": "5f1aeea0",
   "metadata": {},
   "outputs": [],
   "source": [
    "def month_year(df):\n",
    "    df['year'], df['month'] = df[\"Mes/año\"].str.split('M', 1).str\n",
    "    df.drop(['Mes/año'], axis = 1, inplace= True)"
   ]
  },
  {
   "cell_type": "code",
   "execution_count": 15,
   "id": "4a932eec",
   "metadata": {},
   "outputs": [],
   "source": [
    "month_year(gasto_isla)\n",
    "month_year(gasto_isla_2015)"
   ]
  },
  {
   "cell_type": "code",
   "execution_count": 16,
   "id": "ae222771",
   "metadata": {},
   "outputs": [
    {
     "data": {
      "text/html": [
       "<div>\n",
       "<style scoped>\n",
       "    .dataframe tbody tr th:only-of-type {\n",
       "        vertical-align: middle;\n",
       "    }\n",
       "\n",
       "    .dataframe tbody tr th {\n",
       "        vertical-align: top;\n",
       "    }\n",
       "\n",
       "    .dataframe thead th {\n",
       "        text-align: right;\n",
       "    }\n",
       "</style>\n",
       "<table border=\"1\" class=\"dataframe\">\n",
       "  <thead>\n",
       "    <tr style=\"text-align: right;\">\n",
       "      <th></th>\n",
       "      <th>Isla</th>\n",
       "      <th>Gasto_persona</th>\n",
       "      <th>Gasto_persona_día</th>\n",
       "      <th>year</th>\n",
       "      <th>month</th>\n",
       "    </tr>\n",
       "  </thead>\n",
       "  <tbody>\n",
       "    <tr>\n",
       "      <th>1</th>\n",
       "      <td>Mallorca</td>\n",
       "      <td>886,78</td>\n",
       "      <td>111,45</td>\n",
       "      <td>2021</td>\n",
       "      <td>12</td>\n",
       "    </tr>\n",
       "    <tr>\n",
       "      <th>2</th>\n",
       "      <td>Menorca</td>\n",
       "      <td>569,33</td>\n",
       "      <td>97,75</td>\n",
       "      <td>2021</td>\n",
       "      <td>12</td>\n",
       "    </tr>\n",
       "    <tr>\n",
       "      <th>3</th>\n",
       "      <td>Eivissa-Formentera</td>\n",
       "      <td>743,48</td>\n",
       "      <td>89,62</td>\n",
       "      <td>2021</td>\n",
       "      <td>12</td>\n",
       "    </tr>\n",
       "    <tr>\n",
       "      <th>5</th>\n",
       "      <td>Mallorca</td>\n",
       "      <td>886,79</td>\n",
       "      <td>126,19</td>\n",
       "      <td>2021</td>\n",
       "      <td>11</td>\n",
       "    </tr>\n",
       "    <tr>\n",
       "      <th>6</th>\n",
       "      <td>Menorca</td>\n",
       "      <td>589,2</td>\n",
       "      <td>96,37</td>\n",
       "      <td>2021</td>\n",
       "      <td>11</td>\n",
       "    </tr>\n",
       "  </tbody>\n",
       "</table>\n",
       "</div>"
      ],
      "text/plain": [
       "                    Isla Gasto_persona Gasto_persona_día  year month\n",
       "1               Mallorca        886,78            111,45  2021    12\n",
       "2                Menorca        569,33             97,75  2021    12\n",
       "3     Eivissa-Formentera        743,48             89,62  2021    12\n",
       "5               Mallorca        886,79            126,19  2021    11\n",
       "6                Menorca         589,2             96,37  2021    11"
      ]
     },
     "execution_count": 16,
     "metadata": {},
     "output_type": "execute_result"
    }
   ],
   "source": [
    "gasto_isla.head()"
   ]
  },
  {
   "cell_type": "markdown",
   "id": "2f9d5d12",
   "metadata": {},
   "source": [
    "Cambiar orden columnas para unir los df"
   ]
  },
  {
   "cell_type": "code",
   "execution_count": 17,
   "id": "5b189570",
   "metadata": {},
   "outputs": [
    {
     "data": {
      "text/html": [
       "<div>\n",
       "<style scoped>\n",
       "    .dataframe tbody tr th:only-of-type {\n",
       "        vertical-align: middle;\n",
       "    }\n",
       "\n",
       "    .dataframe tbody tr th {\n",
       "        vertical-align: top;\n",
       "    }\n",
       "\n",
       "    .dataframe thead th {\n",
       "        text-align: right;\n",
       "    }\n",
       "</style>\n",
       "<table border=\"1\" class=\"dataframe\">\n",
       "  <thead>\n",
       "    <tr style=\"text-align: right;\">\n",
       "      <th></th>\n",
       "      <th>Isla</th>\n",
       "      <th>Gasto_persona</th>\n",
       "      <th>Gasto_persona_día</th>\n",
       "      <th>year</th>\n",
       "      <th>month</th>\n",
       "    </tr>\n",
       "  </thead>\n",
       "  <tbody>\n",
       "    <tr>\n",
       "      <th>1</th>\n",
       "      <td>Mallorca</td>\n",
       "      <td>886,78</td>\n",
       "      <td>111,45</td>\n",
       "      <td>2021</td>\n",
       "      <td>12</td>\n",
       "    </tr>\n",
       "    <tr>\n",
       "      <th>2</th>\n",
       "      <td>Menorca</td>\n",
       "      <td>569,33</td>\n",
       "      <td>97,75</td>\n",
       "      <td>2021</td>\n",
       "      <td>12</td>\n",
       "    </tr>\n",
       "  </tbody>\n",
       "</table>\n",
       "</div>"
      ],
      "text/plain": [
       "          Isla Gasto_persona Gasto_persona_día  year month\n",
       "1     Mallorca        886,78            111,45  2021    12\n",
       "2      Menorca        569,33             97,75  2021    12"
      ]
     },
     "execution_count": 17,
     "metadata": {},
     "output_type": "execute_result"
    }
   ],
   "source": [
    "gasto_isla.head(2)"
   ]
  },
  {
   "cell_type": "code",
   "execution_count": 18,
   "id": "c8b4a3a2",
   "metadata": {},
   "outputs": [
    {
     "data": {
      "text/html": [
       "<div>\n",
       "<style scoped>\n",
       "    .dataframe tbody tr th:only-of-type {\n",
       "        vertical-align: middle;\n",
       "    }\n",
       "\n",
       "    .dataframe tbody tr th {\n",
       "        vertical-align: top;\n",
       "    }\n",
       "\n",
       "    .dataframe thead th {\n",
       "        text-align: right;\n",
       "    }\n",
       "</style>\n",
       "<table border=\"1\" class=\"dataframe\">\n",
       "  <thead>\n",
       "    <tr style=\"text-align: right;\">\n",
       "      <th></th>\n",
       "      <th>Isla</th>\n",
       "      <th>Gasto_persona_día</th>\n",
       "      <th>Gasto_persona</th>\n",
       "      <th>year</th>\n",
       "      <th>month</th>\n",
       "    </tr>\n",
       "  </thead>\n",
       "  <tbody>\n",
       "    <tr>\n",
       "      <th>1</th>\n",
       "      <td>Mallorca</td>\n",
       "      <td>112,89</td>\n",
       "      <td>919,91</td>\n",
       "      <td>2015</td>\n",
       "      <td>09</td>\n",
       "    </tr>\n",
       "    <tr>\n",
       "      <th>2</th>\n",
       "      <td>Menorca</td>\n",
       "      <td>96,06</td>\n",
       "      <td>844,17</td>\n",
       "      <td>2015</td>\n",
       "      <td>09</td>\n",
       "    </tr>\n",
       "  </tbody>\n",
       "</table>\n",
       "</div>"
      ],
      "text/plain": [
       "          Isla Gasto_persona_día Gasto_persona  year month\n",
       "1     Mallorca            112,89        919,91  2015    09\n",
       "2      Menorca             96,06        844,17  2015    09"
      ]
     },
     "execution_count": 18,
     "metadata": {},
     "output_type": "execute_result"
    }
   ],
   "source": [
    "gasto_isla_2015.head(2)"
   ]
  },
  {
   "cell_type": "code",
   "execution_count": 19,
   "id": "b409a5e8",
   "metadata": {},
   "outputs": [],
   "source": [
    "gasto_isla_2015 = gasto_isla_2015[['Isla','Gasto_persona','Gasto_persona_día','year','month']]"
   ]
  },
  {
   "cell_type": "code",
   "execution_count": null,
   "id": "32464d9c",
   "metadata": {},
   "outputs": [],
   "source": [
    "#gasto_isla.head()"
   ]
  },
  {
   "cell_type": "code",
   "execution_count": null,
   "id": "11a422da",
   "metadata": {},
   "outputs": [],
   "source": [
    "#gasto_isla_2015.head()"
   ]
  },
  {
   "cell_type": "code",
   "execution_count": 20,
   "id": "2f6c5743",
   "metadata": {},
   "outputs": [],
   "source": [
    "gasto_total_ok = pd.concat([gasto_isla, gasto_isla_2015])"
   ]
  },
  {
   "cell_type": "code",
   "execution_count": 21,
   "id": "d3751327",
   "metadata": {
    "scrolled": false
   },
   "outputs": [
    {
     "data": {
      "text/html": [
       "<div>\n",
       "<style scoped>\n",
       "    .dataframe tbody tr th:only-of-type {\n",
       "        vertical-align: middle;\n",
       "    }\n",
       "\n",
       "    .dataframe tbody tr th {\n",
       "        vertical-align: top;\n",
       "    }\n",
       "\n",
       "    .dataframe thead th {\n",
       "        text-align: right;\n",
       "    }\n",
       "</style>\n",
       "<table border=\"1\" class=\"dataframe\">\n",
       "  <thead>\n",
       "    <tr style=\"text-align: right;\">\n",
       "      <th></th>\n",
       "      <th>Isla</th>\n",
       "      <th>Gasto_persona</th>\n",
       "      <th>Gasto_persona_día</th>\n",
       "      <th>year</th>\n",
       "      <th>month</th>\n",
       "    </tr>\n",
       "  </thead>\n",
       "  <tbody>\n",
       "    <tr>\n",
       "      <th>1</th>\n",
       "      <td>Mallorca</td>\n",
       "      <td>886,78</td>\n",
       "      <td>111,45</td>\n",
       "      <td>2021</td>\n",
       "      <td>12</td>\n",
       "    </tr>\n",
       "    <tr>\n",
       "      <th>2</th>\n",
       "      <td>Menorca</td>\n",
       "      <td>569,33</td>\n",
       "      <td>97,75</td>\n",
       "      <td>2021</td>\n",
       "      <td>12</td>\n",
       "    </tr>\n",
       "    <tr>\n",
       "      <th>3</th>\n",
       "      <td>Eivissa-Formentera</td>\n",
       "      <td>743,48</td>\n",
       "      <td>89,62</td>\n",
       "      <td>2021</td>\n",
       "      <td>12</td>\n",
       "    </tr>\n",
       "    <tr>\n",
       "      <th>5</th>\n",
       "      <td>Mallorca</td>\n",
       "      <td>886,79</td>\n",
       "      <td>126,19</td>\n",
       "      <td>2021</td>\n",
       "      <td>11</td>\n",
       "    </tr>\n",
       "    <tr>\n",
       "      <th>6</th>\n",
       "      <td>Menorca</td>\n",
       "      <td>589,2</td>\n",
       "      <td>96,37</td>\n",
       "      <td>2021</td>\n",
       "      <td>11</td>\n",
       "    </tr>\n",
       "    <tr>\n",
       "      <th>...</th>\n",
       "      <td>...</td>\n",
       "      <td>...</td>\n",
       "      <td>...</td>\n",
       "      <td>...</td>\n",
       "      <td>...</td>\n",
       "    </tr>\n",
       "    <tr>\n",
       "      <th>250</th>\n",
       "      <td>Menorca</td>\n",
       "      <td>855,42</td>\n",
       "      <td>94,17</td>\n",
       "      <td>2010</td>\n",
       "      <td>07</td>\n",
       "    </tr>\n",
       "    <tr>\n",
       "      <th>251</th>\n",
       "      <td>Eivissa-Formentera</td>\n",
       "      <td>1.052,04</td>\n",
       "      <td>126,35</td>\n",
       "      <td>2010</td>\n",
       "      <td>07</td>\n",
       "    </tr>\n",
       "    <tr>\n",
       "      <th>253</th>\n",
       "      <td>Mallorca</td>\n",
       "      <td>891,15</td>\n",
       "      <td>119,27</td>\n",
       "      <td>2010</td>\n",
       "      <td>06</td>\n",
       "    </tr>\n",
       "    <tr>\n",
       "      <th>254</th>\n",
       "      <td>Menorca</td>\n",
       "      <td>872,24</td>\n",
       "      <td>105,89</td>\n",
       "      <td>2010</td>\n",
       "      <td>06</td>\n",
       "    </tr>\n",
       "    <tr>\n",
       "      <th>255</th>\n",
       "      <td>Eivissa-Formentera</td>\n",
       "      <td>984,79</td>\n",
       "      <td>115,31</td>\n",
       "      <td>2010</td>\n",
       "      <td>06</td>\n",
       "    </tr>\n",
       "  </tbody>\n",
       "</table>\n",
       "<p>417 rows × 5 columns</p>\n",
       "</div>"
      ],
      "text/plain": [
       "                      Isla Gasto_persona Gasto_persona_día  year month\n",
       "1                 Mallorca        886,78            111,45  2021    12\n",
       "2                  Menorca        569,33             97,75  2021    12\n",
       "3       Eivissa-Formentera        743,48             89,62  2021    12\n",
       "5                 Mallorca        886,79            126,19  2021    11\n",
       "6                  Menorca         589,2             96,37  2021    11\n",
       "..                     ...           ...               ...   ...   ...\n",
       "250                Menorca        855,42             94,17  2010    07\n",
       "251     Eivissa-Formentera      1.052,04            126,35  2010    07\n",
       "253               Mallorca        891,15            119,27  2010    06\n",
       "254                Menorca        872,24            105,89  2010    06\n",
       "255     Eivissa-Formentera        984,79            115,31  2010    06\n",
       "\n",
       "[417 rows x 5 columns]"
      ]
     },
     "execution_count": 21,
     "metadata": {},
     "output_type": "execute_result"
    }
   ],
   "source": [
    "gasto_total_ok"
   ]
  },
  {
   "cell_type": "markdown",
   "id": "a66dba64",
   "metadata": {},
   "source": [
    "Revisar tipo de datos. Todos son 'object'"
   ]
  },
  {
   "cell_type": "code",
   "execution_count": 22,
   "id": "6552a42e",
   "metadata": {
    "scrolled": true
   },
   "outputs": [
    {
     "data": {
      "text/plain": [
       "Isla                 object\n",
       "Gasto_persona        object\n",
       "Gasto_persona_día    object\n",
       "year                 object\n",
       "month                object\n",
       "dtype: object"
      ]
     },
     "execution_count": 22,
     "metadata": {},
     "output_type": "execute_result"
    }
   ],
   "source": [
    "gasto_total_ok.dtypes"
   ]
  },
  {
   "cell_type": "markdown",
   "id": "e07de45d",
   "metadata": {},
   "source": [
    "Se sustituyen puntos y comas y se aplica 'to_numeric' para convertirlo a float"
   ]
  },
  {
   "cell_type": "code",
   "execution_count": 23,
   "id": "71553d4c",
   "metadata": {},
   "outputs": [],
   "source": [
    "def cambiar (strnum):\n",
    "\n",
    "    strnum = strnum.replace(\".\",\"\")\n",
    "    return strnum.replace(\",\",\".\")"
   ]
  },
  {
   "cell_type": "code",
   "execution_count": 24,
   "id": "900c1ef6",
   "metadata": {},
   "outputs": [],
   "source": [
    "gasto_total_ok['Gasto_persona'] = gasto_total_ok['Gasto_persona'].apply(cambiar)\n",
    "gasto_total_ok['Gasto_persona'] = pd.to_numeric(gasto_total_ok['Gasto_persona'], errors = 'coerce')"
   ]
  },
  {
   "cell_type": "code",
   "execution_count": 25,
   "id": "f4576674",
   "metadata": {},
   "outputs": [],
   "source": [
    "gasto_total_ok['Gasto_persona_día'] = gasto_total_ok['Gasto_persona_día'].apply(cambiar)\n",
    "gasto_total_ok['Gasto_persona_día'] = pd.to_numeric(gasto_total_ok['Gasto_persona_día'], errors = 'coerce')"
   ]
  },
  {
   "cell_type": "markdown",
   "id": "a7751c6e",
   "metadata": {},
   "source": [
    "Los años y meses se convierten en enteros"
   ]
  },
  {
   "cell_type": "code",
   "execution_count": 26,
   "id": "c109b39a",
   "metadata": {},
   "outputs": [],
   "source": [
    "gasto_total_ok['year'] = gasto_total_ok['year'].astype(str).astype(int)"
   ]
  },
  {
   "cell_type": "code",
   "execution_count": 27,
   "id": "2b6a12c8",
   "metadata": {},
   "outputs": [],
   "source": [
    "gasto_total_ok['month'] = gasto_total_ok['month'].astype(str).astype(int)"
   ]
  },
  {
   "cell_type": "markdown",
   "id": "c7bdde8a",
   "metadata": {},
   "source": [
    "El tipo de dato está ok"
   ]
  },
  {
   "cell_type": "code",
   "execution_count": 28,
   "id": "674efa43",
   "metadata": {},
   "outputs": [
    {
     "data": {
      "text/plain": [
       "Isla                  object\n",
       "Gasto_persona        float64\n",
       "Gasto_persona_día    float64\n",
       "year                   int64\n",
       "month                  int64\n",
       "dtype: object"
      ]
     },
     "execution_count": 28,
     "metadata": {},
     "output_type": "execute_result"
    }
   ],
   "source": [
    "gasto_total_ok.dtypes"
   ]
  },
  {
   "cell_type": "code",
   "execution_count": null,
   "id": "6daf841d",
   "metadata": {
    "scrolled": false
   },
   "outputs": [],
   "source": [
    "gasto_total_ok"
   ]
  },
  {
   "cell_type": "markdown",
   "id": "8b94a43b",
   "metadata": {},
   "source": [
    "En la columna 'Isla', cada nombre lleva espacios al inicio. Se eliminan"
   ]
  },
  {
   "cell_type": "code",
   "execution_count": null,
   "id": "b6b9d84c",
   "metadata": {},
   "outputs": [],
   "source": [
    "#gasto_total_ok.Isla.unique()"
   ]
  },
  {
   "cell_type": "code",
   "execution_count": 29,
   "id": "6e338aee",
   "metadata": {},
   "outputs": [],
   "source": [
    "gasto_total_ok['Isla'] = gasto_total_ok['Isla'].str.strip()"
   ]
  },
  {
   "cell_type": "code",
   "execution_count": null,
   "id": "32ac502c",
   "metadata": {},
   "outputs": [],
   "source": [
    "#gasto_total_ok.Isla.unique()"
   ]
  },
  {
   "cell_type": "markdown",
   "id": "243b24db",
   "metadata": {},
   "source": [
    "Para unificar los nombres de las islas con el resto de csv, se indican los mismos nombres para las islas"
   ]
  },
  {
   "cell_type": "code",
   "execution_count": 30,
   "id": "821a36f7",
   "metadata": {},
   "outputs": [],
   "source": [
    "def sustituir(x):\n",
    "    if x == 'Eivissa-Formentera': \n",
    "        return 'Ibiza_Formentera'\n",
    "    else:\n",
    "        return x"
   ]
  },
  {
   "cell_type": "code",
   "execution_count": 31,
   "id": "8db19670",
   "metadata": {},
   "outputs": [],
   "source": [
    "gasto_total_ok.Isla = gasto_total_ok.Isla.apply(sustituir)"
   ]
  },
  {
   "cell_type": "code",
   "execution_count": 32,
   "id": "7eedcd3a",
   "metadata": {},
   "outputs": [
    {
     "data": {
      "text/html": [
       "<div>\n",
       "<style scoped>\n",
       "    .dataframe tbody tr th:only-of-type {\n",
       "        vertical-align: middle;\n",
       "    }\n",
       "\n",
       "    .dataframe tbody tr th {\n",
       "        vertical-align: top;\n",
       "    }\n",
       "\n",
       "    .dataframe thead th {\n",
       "        text-align: right;\n",
       "    }\n",
       "</style>\n",
       "<table border=\"1\" class=\"dataframe\">\n",
       "  <thead>\n",
       "    <tr style=\"text-align: right;\">\n",
       "      <th></th>\n",
       "      <th>Isla</th>\n",
       "      <th>Gasto_persona</th>\n",
       "      <th>Gasto_persona_día</th>\n",
       "      <th>year</th>\n",
       "      <th>month</th>\n",
       "    </tr>\n",
       "  </thead>\n",
       "  <tbody>\n",
       "    <tr>\n",
       "      <th>1</th>\n",
       "      <td>Mallorca</td>\n",
       "      <td>886.78</td>\n",
       "      <td>111.45</td>\n",
       "      <td>2021</td>\n",
       "      <td>12</td>\n",
       "    </tr>\n",
       "    <tr>\n",
       "      <th>2</th>\n",
       "      <td>Menorca</td>\n",
       "      <td>569.33</td>\n",
       "      <td>97.75</td>\n",
       "      <td>2021</td>\n",
       "      <td>12</td>\n",
       "    </tr>\n",
       "    <tr>\n",
       "      <th>3</th>\n",
       "      <td>Ibiza_Formentera</td>\n",
       "      <td>743.48</td>\n",
       "      <td>89.62</td>\n",
       "      <td>2021</td>\n",
       "      <td>12</td>\n",
       "    </tr>\n",
       "    <tr>\n",
       "      <th>5</th>\n",
       "      <td>Mallorca</td>\n",
       "      <td>886.79</td>\n",
       "      <td>126.19</td>\n",
       "      <td>2021</td>\n",
       "      <td>11</td>\n",
       "    </tr>\n",
       "    <tr>\n",
       "      <th>6</th>\n",
       "      <td>Menorca</td>\n",
       "      <td>589.20</td>\n",
       "      <td>96.37</td>\n",
       "      <td>2021</td>\n",
       "      <td>11</td>\n",
       "    </tr>\n",
       "    <tr>\n",
       "      <th>...</th>\n",
       "      <td>...</td>\n",
       "      <td>...</td>\n",
       "      <td>...</td>\n",
       "      <td>...</td>\n",
       "      <td>...</td>\n",
       "    </tr>\n",
       "    <tr>\n",
       "      <th>250</th>\n",
       "      <td>Menorca</td>\n",
       "      <td>855.42</td>\n",
       "      <td>94.17</td>\n",
       "      <td>2010</td>\n",
       "      <td>7</td>\n",
       "    </tr>\n",
       "    <tr>\n",
       "      <th>251</th>\n",
       "      <td>Ibiza_Formentera</td>\n",
       "      <td>1052.04</td>\n",
       "      <td>126.35</td>\n",
       "      <td>2010</td>\n",
       "      <td>7</td>\n",
       "    </tr>\n",
       "    <tr>\n",
       "      <th>253</th>\n",
       "      <td>Mallorca</td>\n",
       "      <td>891.15</td>\n",
       "      <td>119.27</td>\n",
       "      <td>2010</td>\n",
       "      <td>6</td>\n",
       "    </tr>\n",
       "    <tr>\n",
       "      <th>254</th>\n",
       "      <td>Menorca</td>\n",
       "      <td>872.24</td>\n",
       "      <td>105.89</td>\n",
       "      <td>2010</td>\n",
       "      <td>6</td>\n",
       "    </tr>\n",
       "    <tr>\n",
       "      <th>255</th>\n",
       "      <td>Ibiza_Formentera</td>\n",
       "      <td>984.79</td>\n",
       "      <td>115.31</td>\n",
       "      <td>2010</td>\n",
       "      <td>6</td>\n",
       "    </tr>\n",
       "  </tbody>\n",
       "</table>\n",
       "<p>417 rows × 5 columns</p>\n",
       "</div>"
      ],
      "text/plain": [
       "                 Isla  Gasto_persona  Gasto_persona_día  year  month\n",
       "1            Mallorca         886.78             111.45  2021     12\n",
       "2             Menorca         569.33              97.75  2021     12\n",
       "3    Ibiza_Formentera         743.48              89.62  2021     12\n",
       "5            Mallorca         886.79             126.19  2021     11\n",
       "6             Menorca         589.20              96.37  2021     11\n",
       "..                ...            ...                ...   ...    ...\n",
       "250           Menorca         855.42              94.17  2010      7\n",
       "251  Ibiza_Formentera        1052.04             126.35  2010      7\n",
       "253          Mallorca         891.15             119.27  2010      6\n",
       "254           Menorca         872.24             105.89  2010      6\n",
       "255  Ibiza_Formentera         984.79             115.31  2010      6\n",
       "\n",
       "[417 rows x 5 columns]"
      ]
     },
     "execution_count": 32,
     "metadata": {},
     "output_type": "execute_result"
    }
   ],
   "source": [
    "gasto_total_ok"
   ]
  },
  {
   "cell_type": "code",
   "execution_count": null,
   "id": "7c83fad6",
   "metadata": {},
   "outputs": [],
   "source": [
    "#gasto_total_ok.to_csv(r'gasto_persona_dia.csv', index = False, header=True)"
   ]
  },
  {
   "cell_type": "code",
   "execution_count": null,
   "id": "56c5d218",
   "metadata": {},
   "outputs": [],
   "source": []
  }
 ],
 "metadata": {
  "kernelspec": {
   "display_name": "ironhack",
   "language": "python",
   "name": "ironhack"
  },
  "language_info": {
   "codemirror_mode": {
    "name": "ipython",
    "version": 3
   },
   "file_extension": ".py",
   "mimetype": "text/x-python",
   "name": "python",
   "nbconvert_exporter": "python",
   "pygments_lexer": "ipython3",
   "version": "3.8.2"
  }
 },
 "nbformat": 4,
 "nbformat_minor": 5
}
